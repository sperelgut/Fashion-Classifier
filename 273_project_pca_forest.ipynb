{
 "cells": [
  {
   "cell_type": "code",
   "execution_count": 8,
   "metadata": {},
   "outputs": [
    {
     "name": "stdout",
     "output_type": "stream",
     "text": [
      "done\n"
     ]
    }
   ],
   "source": [
    "import tensorflow as tf\n",
    "import tensorflow_datasets as tfds\n",
    "import cv2\n",
    "import matplotlib.pyplot as plt\n",
    "import numpy as np\n",
    "np.set_printoptions(linewidth=100000, precision=3)\n",
    "import sys\n",
    "import pandas as pd\n",
    "\n",
    "from skimage import data, io, filters\n",
    "from skimage.transform import resize\n",
    "\n",
    "\n",
    "from sklearn.preprocessing import StandardScaler\n",
    "from sklearn.decomposition import PCA\n",
    "from sklearn.ensemble import RandomForestClassifier\n",
    "from sklearn.metrics import confusion_matrix\n",
    "from sklearn.metrics import accuracy_score\n",
    "\n",
    "\n",
    "\n",
    "#data = tfds.load('fashion_mnist')\n",
    "print(\"done\")"
   ]
  },
  {
   "cell_type": "code",
   "execution_count": 9,
   "metadata": {},
   "outputs": [],
   "source": [
    "(img_train, label_train), (img_test, label_test) = tfds.as_numpy(tfds.load(\n",
    "    'fashion_mnist',\n",
    "    split=['train', 'test'],\n",
    "    batch_size=-1,\n",
    "    as_supervised=True,\n",
    "))\n",
    "img_train = img_train.reshape((60000, 28, 28))\n",
    "nsamples, nx, ny = img_train.shape\n",
    "img_train = img_train.reshape(nsamples, nx * ny)"
   ]
  },
  {
   "cell_type": "code",
   "execution_count": 10,
   "metadata": {},
   "outputs": [
    {
     "name": "stdout",
     "output_type": "stream",
     "text": [
      "(10000, 784)\n"
     ]
    }
   ],
   "source": [
    "nsamples, nx, ny, _ = img_test.shape\n",
    "img_test = img_test.reshape(nsamples, nx * ny)\n",
    "print(img_test.shape)\n",
    "Xtr=img_train\n",
    "Xte=img_test"
   ]
  },
  {
   "cell_type": "code",
   "execution_count": 11,
   "metadata": {},
   "outputs": [],
   "source": [
    "def bucket3(arr,b_num):\n",
    "    \n",
    "    new_arr=np.zeros(arr.shape)\n",
    "    for img in range(len(arr)):\n",
    "        cb=0\n",
    "        th=np.max(arr[img])/b_num\n",
    "        threshold=th\n",
    "        while(cb<b_num):\n",
    "            add_arr=(arr[img]>threshold)*1\n",
    "            new_arr[img]= np.add(new_arr[img],add_arr)\n",
    "            threshold+=th\n",
    "            cb+=1\n",
    "        \n",
    "    return new_arr"
   ]
  },
  {
   "cell_type": "code",
   "execution_count": 15,
   "metadata": {},
   "outputs": [],
   "source": [
    "bucketted=bucket3(Xtr,8)"
   ]
  },
  {
   "cell_type": "code",
   "execution_count": 16,
   "metadata": {},
   "outputs": [
    {
     "data": {
      "text/plain": [
       "<matplotlib.image.AxesImage at 0x1fe8ecd2700>"
      ]
     },
     "execution_count": 16,
     "metadata": {},
     "output_type": "execute_result"
    },
    {
     "data": {
      "image/png": "[encoded data removed]",
      "text/plain": [
       "<Figure size 432x288 with 1 Axes>"
      ]
     },
     "metadata": {
      "needs_background": "light"
     },
     "output_type": "display_data"
    }
   ],
   "source": [
    "plt.imshow(Xtr[1].reshape(28,28), cmap='gray')"
   ]
  },
  {
   "cell_type": "code",
   "execution_count": 17,
   "metadata": {},
   "outputs": [
    {
     "data": {
      "text/plain": [
       "<matplotlib.image.AxesImage at 0x1fe8ed258b0>"
      ]
     },
     "execution_count": 17,
     "metadata": {},
     "output_type": "execute_result"
    },
    {
     "data": {
      "image/png": "[encoded data removed]",
      "text/plain": [
       "<Figure size 432x288 with 1 Axes>"
      ]
     },
     "metadata": {
      "needs_background": "light"
     },
     "output_type": "display_data"
    }
   ],
   "source": [
    "plt.imshow(bucketted[1].reshape(28,28), cmap='gray')"
   ]
  },
  {
   "cell_type": "code",
   "execution_count": null,
   "metadata": {},
   "outputs": [],
   "source": [
    "# grid search\n",
    "buckets=[5,10,25,50]\n",
    "depth=[2,5,7,10]\n",
    "pca_comp=[10,20,30,50]\n",
    "#grid_arr=np.empty_like(np.array,shape=(len(buckets),len(depth),len(pca_comp)))\n",
    "#np.zeros((len(buckets),len(depth),len(pca_comp)))\n",
    "def gridsearch1(buckets,depth,pca_comp,Xtra,Xtes,label_train):\n",
    "    grid_arr=np.empty_like(np.array,shape=(len(buckets),len(depth),len(pca_comp)))\n",
    "    for b,buck in enumerate(buckets):\n",
    "        for d, dep in enumerate(depth):\n",
    "            for c, com in enumerate(pca_comp):\n",
    "                bucket_train=bucket3(Xtra,buck)\n",
    "                bucket_test=bucket3(Xtes,buck)\n",
    "                pca = PCA(n_components=com)\n",
    "                Xtr_f = pca.fit_transform(bucket_train)\n",
    "                Xte_f = pca.transform(bucket_test)\n",
    "                classifier = RandomForestClassifier(max_depth=dep, random_state=0)\n",
    "                classifier.fit(Xtr_f, label_train)\n",
    "                grid_arr[b,d,c] = classifier.predict(Xte_f)\n",
    "    return grid_arr\n",
    "print(\"done\")"
   ]
  },
  {
   "cell_type": "code",
   "execution_count": null,
   "metadata": {},
   "outputs": [],
   "source": [
    "buckets=[8,12,16,20]\n",
    "depth=[20,30,35,40]\n",
    "pca_comp=[30,40,50,60]\n",
    "xb=Xtr\n",
    "xz=Xte\n",
    "lb=label_train\n",
    "le=label_test\n",
    "print(xb.shape)\n",
    "print(xz.shape)\n",
    "ga=gridsearch1(buckets,depth,pca_comp,xb,xz,lb)"
   ]
  },
  {
   "cell_type": "code",
   "execution_count": null,
   "metadata": {},
   "outputs": [],
   "source": [
    "y_hat=np.zeros((4,4))\n",
    "#for i in range(len(grid_search)):\n",
    "for j in range(len(ga[0])):\n",
    "    for k in range(len(ga[0][0])):\n",
    "        y_hat[j,k]=accuracy_score(le, ga[0,j,k])\n",
    "                 \n",
    "\n",
    "f, ax = plt.subplots(1, 1, figsize=(8, 5))\n",
    "cax = ax.matshow(y_hat, interpolation='nearest')\n",
    "f.colorbar(cax)\n",
    "ax.set_xticklabels(['']+depth)\n",
    "ax.set_yticklabels(['']+pca_comp)\n",
    "plt.show()"
   ]
  },
  {
   "cell_type": "code",
   "execution_count": 18,
   "metadata": {},
   "outputs": [
    {
     "data": {
      "text/plain": [
       "0.8605"
      ]
     },
     "execution_count": 18,
     "metadata": {},
     "output_type": "execute_result"
    }
   ],
   "source": [
    "bucket_train=bucket3(Xtr,12)\n",
    "bucket_test=bucket3(Xte,12)\n",
    "pca = PCA(n_components=50)\n",
    "Xtr_f = pca.fit_transform(bucket_train)\n",
    "Xte_f = pca.transform(bucket_test)\n",
    "classifier = RandomForestClassifier(max_depth=30, random_state=0)\n",
    "classifier.fit(Xtr_f, label_train)\n",
    "accuracy_score(label_test, classifier.predict(Xte_f))"
   ]
  },
  {
   "cell_type": "code",
   "execution_count": null,
   "metadata": {},
   "outputs": [],
   "source": []
  }
 ],
 "metadata": {
  "kernelspec": {
   "display_name": "Python 3",
   "language": "python",
   "name": "python3"
  },
  "language_info": {
   "codemirror_mode": {
    "name": "ipython",
    "version": 3
   },
   "file_extension": ".py",
   "mimetype": "text/x-python",
   "name": "python",
   "nbconvert_exporter": "python",
   "pygments_lexer": "ipython3",
   "version": "3.8.5"
  }
 },
 "nbformat": 4,
 "nbformat_minor": 4
}
