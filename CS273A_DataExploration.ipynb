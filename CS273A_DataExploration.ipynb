{
  "nbformat": 4,
  "nbformat_minor": 0,
  "metadata": {
    "colab": {
      "name": "CS273A_DataExploration.ipynb",
      "provenance": [],
      "collapsed_sections": []
    },
    "kernelspec": {
      "name": "python3",
      "display_name": "Python 3"
    },
    "language_info": {
      "name": "python"
    },
    "widgets": {
      "application/vnd.jupyter.widget-state+json": {
        "8b3156c6d7d248cdadb6eee63cb1f012": {
          "model_module": "@jupyter-widgets/controls",
          "model_name": "HBoxModel",
          "model_module_version": "1.5.0",
          "state": {
            "_view_name": "HBoxView",
            "_dom_classes": [],
            "_model_name": "HBoxModel",
            "_view_module": "@jupyter-widgets/controls",
            "_model_module_version": "1.5.0",
            "_view_count": null,
            "_view_module_version": "1.5.0",
            "box_style": "",
            "layout": "IPY_MODEL_0aa11afb98b54b5b9d875d9e97e53ed2",
            "_model_module": "@jupyter-widgets/controls",
            "children": [
              "IPY_MODEL_f1b3617016f24c77991dae5bdaa053e5",
              "IPY_MODEL_7215878f239d4590a2c857117186a8f1",
              "IPY_MODEL_338345b14ba74ec793a587accb189e1e"
            ]
          }
        },
        "0aa11afb98b54b5b9d875d9e97e53ed2": {
          "model_module": "@jupyter-widgets/base",
          "model_name": "LayoutModel",
          "model_module_version": "1.2.0",
          "state": {
            "_view_name": "LayoutView",
            "grid_template_rows": null,
            "right": null,
            "justify_content": null,
            "_view_module": "@jupyter-widgets/base",
            "overflow": null,
            "_model_module_version": "1.2.0",
            "_view_count": null,
            "flex_flow": null,
            "width": null,
            "min_width": null,
            "border": null,
            "align_items": null,
            "bottom": null,
            "_model_module": "@jupyter-widgets/base",
            "top": null,
            "grid_column": null,
            "overflow_y": null,
            "overflow_x": null,
            "grid_auto_flow": null,
            "grid_area": null,
            "grid_template_columns": null,
            "flex": null,
            "_model_name": "LayoutModel",
            "justify_items": null,
            "grid_row": null,
            "max_height": null,
            "align_content": null,
            "visibility": null,
            "align_self": null,
            "height": null,
            "min_height": null,
            "padding": null,
            "grid_auto_rows": null,
            "grid_gap": null,
            "max_width": null,
            "order": null,
            "_view_module_version": "1.2.0",
            "grid_template_areas": null,
            "object_position": null,
            "object_fit": null,
            "grid_auto_columns": null,
            "margin": null,
            "display": null,
            "left": null
          }
        },
        "f1b3617016f24c77991dae5bdaa053e5": {
          "model_module": "@jupyter-widgets/controls",
          "model_name": "HTMLModel",
          "model_module_version": "1.5.0",
          "state": {
            "_view_name": "HTMLView",
            "style": "IPY_MODEL_da5aea3736ae4cf8beb11db5d241329c",
            "_dom_classes": [],
            "description": "",
            "_model_name": "HTMLModel",
            "placeholder": "​",
            "_view_module": "@jupyter-widgets/controls",
            "_model_module_version": "1.5.0",
            "value": "Dl Completed...: 100%",
            "_view_count": null,
            "_view_module_version": "1.5.0",
            "description_tooltip": null,
            "_model_module": "@jupyter-widgets/controls",
            "layout": "IPY_MODEL_6c32adb95f0d4ae4b96dbb70fcd5ac18"
          }
        },
        "7215878f239d4590a2c857117186a8f1": {
          "model_module": "@jupyter-widgets/controls",
          "model_name": "FloatProgressModel",
          "model_module_version": "1.5.0",
          "state": {
            "_view_name": "ProgressView",
            "style": "IPY_MODEL_521009078f9f41799fb8f41dd0825805",
            "_dom_classes": [],
            "description": "",
            "_model_name": "FloatProgressModel",
            "bar_style": "success",
            "max": 1,
            "_view_module": "@jupyter-widgets/controls",
            "_model_module_version": "1.5.0",
            "value": 1,
            "_view_count": null,
            "_view_module_version": "1.5.0",
            "orientation": "horizontal",
            "min": 0,
            "description_tooltip": null,
            "_model_module": "@jupyter-widgets/controls",
            "layout": "IPY_MODEL_2a1d3e3f1c4f458985fbfbf22206db84"
          }
        },
        "338345b14ba74ec793a587accb189e1e": {
          "model_module": "@jupyter-widgets/controls",
          "model_name": "HTMLModel",
          "model_module_version": "1.5.0",
          "state": {
            "_view_name": "HTMLView",
            "style": "IPY_MODEL_945274323c074988b2408f318bf7b0b5",
            "_dom_classes": [],
            "description": "",
            "_model_name": "HTMLModel",
            "placeholder": "​",
            "_view_module": "@jupyter-widgets/controls",
            "_model_module_version": "1.5.0",
            "value": " 4/4 [00:02&lt;00:00,  1.65 url/s]",
            "_view_count": null,
            "_view_module_version": "1.5.0",
            "description_tooltip": null,
            "_model_module": "@jupyter-widgets/controls",
            "layout": "IPY_MODEL_8008e74bbf6b47119ff5d882708401be"
          }
        },
        "da5aea3736ae4cf8beb11db5d241329c": {
          "model_module": "@jupyter-widgets/controls",
          "model_name": "DescriptionStyleModel",
          "model_module_version": "1.5.0",
          "state": {
            "_view_name": "StyleView",
            "_model_name": "DescriptionStyleModel",
            "description_width": "",
            "_view_module": "@jupyter-widgets/base",
            "_model_module_version": "1.5.0",
            "_view_count": null,
            "_view_module_version": "1.2.0",
            "_model_module": "@jupyter-widgets/controls"
          }
        },
        "6c32adb95f0d4ae4b96dbb70fcd5ac18": {
          "model_module": "@jupyter-widgets/base",
          "model_name": "LayoutModel",
          "model_module_version": "1.2.0",
          "state": {
            "_view_name": "LayoutView",
            "grid_template_rows": null,
            "right": null,
            "justify_content": null,
            "_view_module": "@jupyter-widgets/base",
            "overflow": null,
            "_model_module_version": "1.2.0",
            "_view_count": null,
            "flex_flow": null,
            "width": null,
            "min_width": null,
            "border": null,
            "align_items": null,
            "bottom": null,
            "_model_module": "@jupyter-widgets/base",
            "top": null,
            "grid_column": null,
            "overflow_y": null,
            "overflow_x": null,
            "grid_auto_flow": null,
            "grid_area": null,
            "grid_template_columns": null,
            "flex": null,
            "_model_name": "LayoutModel",
            "justify_items": null,
            "grid_row": null,
            "max_height": null,
            "align_content": null,
            "visibility": null,
            "align_self": null,
            "height": null,
            "min_height": null,
            "padding": null,
            "grid_auto_rows": null,
            "grid_gap": null,
            "max_width": null,
            "order": null,
            "_view_module_version": "1.2.0",
            "grid_template_areas": null,
            "object_position": null,
            "object_fit": null,
            "grid_auto_columns": null,
            "margin": null,
            "display": null,
            "left": null
          }
        },
        "521009078f9f41799fb8f41dd0825805": {
          "model_module": "@jupyter-widgets/controls",
          "model_name": "ProgressStyleModel",
          "model_module_version": "1.5.0",
          "state": {
            "_view_name": "StyleView",
            "_model_name": "ProgressStyleModel",
            "description_width": "",
            "_view_module": "@jupyter-widgets/base",
            "_model_module_version": "1.5.0",
            "_view_count": null,
            "_view_module_version": "1.2.0",
            "bar_color": null,
            "_model_module": "@jupyter-widgets/controls"
          }
        },
        "2a1d3e3f1c4f458985fbfbf22206db84": {
          "model_module": "@jupyter-widgets/base",
          "model_name": "LayoutModel",
          "model_module_version": "1.2.0",
          "state": {
            "_view_name": "LayoutView",
            "grid_template_rows": null,
            "right": null,
            "justify_content": null,
            "_view_module": "@jupyter-widgets/base",
            "overflow": null,
            "_model_module_version": "1.2.0",
            "_view_count": null,
            "flex_flow": null,
            "width": "20px",
            "min_width": null,
            "border": null,
            "align_items": null,
            "bottom": null,
            "_model_module": "@jupyter-widgets/base",
            "top": null,
            "grid_column": null,
            "overflow_y": null,
            "overflow_x": null,
            "grid_auto_flow": null,
            "grid_area": null,
            "grid_template_columns": null,
            "flex": null,
            "_model_name": "LayoutModel",
            "justify_items": null,
            "grid_row": null,
            "max_height": null,
            "align_content": null,
            "visibility": null,
            "align_self": null,
            "height": null,
            "min_height": null,
            "padding": null,
            "grid_auto_rows": null,
            "grid_gap": null,
            "max_width": null,
            "order": null,
            "_view_module_version": "1.2.0",
            "grid_template_areas": null,
            "object_position": null,
            "object_fit": null,
            "grid_auto_columns": null,
            "margin": null,
            "display": null,
            "left": null
          }
        },
        "945274323c074988b2408f318bf7b0b5": {
          "model_module": "@jupyter-widgets/controls",
          "model_name": "DescriptionStyleModel",
          "model_module_version": "1.5.0",
          "state": {
            "_view_name": "StyleView",
            "_model_name": "DescriptionStyleModel",
            "description_width": "",
            "_view_module": "@jupyter-widgets/base",
            "_model_module_version": "1.5.0",
            "_view_count": null,
            "_view_module_version": "1.2.0",
            "_model_module": "@jupyter-widgets/controls"
          }
        },
        "8008e74bbf6b47119ff5d882708401be": {
          "model_module": "@jupyter-widgets/base",
          "model_name": "LayoutModel",
          "model_module_version": "1.2.0",
          "state": {
            "_view_name": "LayoutView",
            "grid_template_rows": null,
            "right": null,
            "justify_content": null,
            "_view_module": "@jupyter-widgets/base",
            "overflow": null,
            "_model_module_version": "1.2.0",
            "_view_count": null,
            "flex_flow": null,
            "width": null,
            "min_width": null,
            "border": null,
            "align_items": null,
            "bottom": null,
            "_model_module": "@jupyter-widgets/base",
            "top": null,
            "grid_column": null,
            "overflow_y": null,
            "overflow_x": null,
            "grid_auto_flow": null,
            "grid_area": null,
            "grid_template_columns": null,
            "flex": null,
            "_model_name": "LayoutModel",
            "justify_items": null,
            "grid_row": null,
            "max_height": null,
            "align_content": null,
            "visibility": null,
            "align_self": null,
            "height": null,
            "min_height": null,
            "padding": null,
            "grid_auto_rows": null,
            "grid_gap": null,
            "max_width": null,
            "order": null,
            "_view_module_version": "1.2.0",
            "grid_template_areas": null,
            "object_position": null,
            "object_fit": null,
            "grid_auto_columns": null,
            "margin": null,
            "display": null,
            "left": null
          }
        },
        "e36a528c4ec04e36a7e19c33cd1bc906": {
          "model_module": "@jupyter-widgets/controls",
          "model_name": "HBoxModel",
          "model_module_version": "1.5.0",
          "state": {
            "_view_name": "HBoxView",
            "_dom_classes": [],
            "_model_name": "HBoxModel",
            "_view_module": "@jupyter-widgets/controls",
            "_model_module_version": "1.5.0",
            "_view_count": null,
            "_view_module_version": "1.5.0",
            "box_style": "",
            "layout": "IPY_MODEL_6e43a21b8bdb459f8caf5a22ba49f55d",
            "_model_module": "@jupyter-widgets/controls",
            "children": [
              "IPY_MODEL_fd9142ff411f4975a8f4250ae30cd9ee",
              "IPY_MODEL_5073414941d748c0adff401ffee823eb",
              "IPY_MODEL_998b1b553f5140a8afe2a55e193d63c1"
            ]
          }
        },
        "6e43a21b8bdb459f8caf5a22ba49f55d": {
          "model_module": "@jupyter-widgets/base",
          "model_name": "LayoutModel",
          "model_module_version": "1.2.0",
          "state": {
            "_view_name": "LayoutView",
            "grid_template_rows": null,
            "right": null,
            "justify_content": null,
            "_view_module": "@jupyter-widgets/base",
            "overflow": null,
            "_model_module_version": "1.2.0",
            "_view_count": null,
            "flex_flow": null,
            "width": null,
            "min_width": null,
            "border": null,
            "align_items": null,
            "bottom": null,
            "_model_module": "@jupyter-widgets/base",
            "top": null,
            "grid_column": null,
            "overflow_y": null,
            "overflow_x": null,
            "grid_auto_flow": null,
            "grid_area": null,
            "grid_template_columns": null,
            "flex": null,
            "_model_name": "LayoutModel",
            "justify_items": null,
            "grid_row": null,
            "max_height": null,
            "align_content": null,
            "visibility": null,
            "align_self": null,
            "height": null,
            "min_height": null,
            "padding": null,
            "grid_auto_rows": null,
            "grid_gap": null,
            "max_width": null,
            "order": null,
            "_view_module_version": "1.2.0",
            "grid_template_areas": null,
            "object_position": null,
            "object_fit": null,
            "grid_auto_columns": null,
            "margin": null,
            "display": null,
            "left": null
          }
        },
        "fd9142ff411f4975a8f4250ae30cd9ee": {
          "model_module": "@jupyter-widgets/controls",
          "model_name": "HTMLModel",
          "model_module_version": "1.5.0",
          "state": {
            "_view_name": "HTMLView",
            "style": "IPY_MODEL_28afe1b7546a41cfb48f2b5e269f6484",
            "_dom_classes": [],
            "description": "",
            "_model_name": "HTMLModel",
            "placeholder": "​",
            "_view_module": "@jupyter-widgets/controls",
            "_model_module_version": "1.5.0",
            "value": "Dl Size...: 100%",
            "_view_count": null,
            "_view_module_version": "1.5.0",
            "description_tooltip": null,
            "_model_module": "@jupyter-widgets/controls",
            "layout": "IPY_MODEL_85b0a8cf0a8149168abcc6d027671fdc"
          }
        },
        "5073414941d748c0adff401ffee823eb": {
          "model_module": "@jupyter-widgets/controls",
          "model_name": "FloatProgressModel",
          "model_module_version": "1.5.0",
          "state": {
            "_view_name": "ProgressView",
            "style": "IPY_MODEL_f434e4f87cca429b89adf7c6ea9d3c69",
            "_dom_classes": [],
            "description": "",
            "_model_name": "FloatProgressModel",
            "bar_style": "success",
            "max": 1,
            "_view_module": "@jupyter-widgets/controls",
            "_model_module_version": "1.5.0",
            "value": 1,
            "_view_count": null,
            "_view_module_version": "1.5.0",
            "orientation": "horizontal",
            "min": 0,
            "description_tooltip": null,
            "_model_module": "@jupyter-widgets/controls",
            "layout": "IPY_MODEL_d9a700c4ed6b4e93b3777e2b950bafbb"
          }
        },
        "998b1b553f5140a8afe2a55e193d63c1": {
          "model_module": "@jupyter-widgets/controls",
          "model_name": "HTMLModel",
          "model_module_version": "1.5.0",
          "state": {
            "_view_name": "HTMLView",
            "style": "IPY_MODEL_a27b4b19afd4428ca633e4031e7cc6dd",
            "_dom_classes": [],
            "description": "",
            "_model_name": "HTMLModel",
            "placeholder": "​",
            "_view_module": "@jupyter-widgets/controls",
            "_model_module_version": "1.5.0",
            "value": " 29/29 [00:02&lt;00:00, 22.22 MiB/s]",
            "_view_count": null,
            "_view_module_version": "1.5.0",
            "description_tooltip": null,
            "_model_module": "@jupyter-widgets/controls",
            "layout": "IPY_MODEL_95629fb8a9aa4aa8b99668a8ffe3cd64"
          }
        },
        "28afe1b7546a41cfb48f2b5e269f6484": {
          "model_module": "@jupyter-widgets/controls",
          "model_name": "DescriptionStyleModel",
          "model_module_version": "1.5.0",
          "state": {
            "_view_name": "StyleView",
            "_model_name": "DescriptionStyleModel",
            "description_width": "",
            "_view_module": "@jupyter-widgets/base",
            "_model_module_version": "1.5.0",
            "_view_count": null,
            "_view_module_version": "1.2.0",
            "_model_module": "@jupyter-widgets/controls"
          }
        },
        "85b0a8cf0a8149168abcc6d027671fdc": {
          "model_module": "@jupyter-widgets/base",
          "model_name": "LayoutModel",
          "model_module_version": "1.2.0",
          "state": {
            "_view_name": "LayoutView",
            "grid_template_rows": null,
            "right": null,
            "justify_content": null,
            "_view_module": "@jupyter-widgets/base",
            "overflow": null,
            "_model_module_version": "1.2.0",
            "_view_count": null,
            "flex_flow": null,
            "width": null,
            "min_width": null,
            "border": null,
            "align_items": null,
            "bottom": null,
            "_model_module": "@jupyter-widgets/base",
            "top": null,
            "grid_column": null,
            "overflow_y": null,
            "overflow_x": null,
            "grid_auto_flow": null,
            "grid_area": null,
            "grid_template_columns": null,
            "flex": null,
            "_model_name": "LayoutModel",
            "justify_items": null,
            "grid_row": null,
            "max_height": null,
            "align_content": null,
            "visibility": null,
            "align_self": null,
            "height": null,
            "min_height": null,
            "padding": null,
            "grid_auto_rows": null,
            "grid_gap": null,
            "max_width": null,
            "order": null,
            "_view_module_version": "1.2.0",
            "grid_template_areas": null,
            "object_position": null,
            "object_fit": null,
            "grid_auto_columns": null,
            "margin": null,
            "display": null,
            "left": null
          }
        },
        "f434e4f87cca429b89adf7c6ea9d3c69": {
          "model_module": "@jupyter-widgets/controls",
          "model_name": "ProgressStyleModel",
          "model_module_version": "1.5.0",
          "state": {
            "_view_name": "StyleView",
            "_model_name": "ProgressStyleModel",
            "description_width": "",
            "_view_module": "@jupyter-widgets/base",
            "_model_module_version": "1.5.0",
            "_view_count": null,
            "_view_module_version": "1.2.0",
            "bar_color": null,
            "_model_module": "@jupyter-widgets/controls"
          }
        },
        "d9a700c4ed6b4e93b3777e2b950bafbb": {
          "model_module": "@jupyter-widgets/base",
          "model_name": "LayoutModel",
          "model_module_version": "1.2.0",
          "state": {
            "_view_name": "LayoutView",
            "grid_template_rows": null,
            "right": null,
            "justify_content": null,
            "_view_module": "@jupyter-widgets/base",
            "overflow": null,
            "_model_module_version": "1.2.0",
            "_view_count": null,
            "flex_flow": null,
            "width": "20px",
            "min_width": null,
            "border": null,
            "align_items": null,
            "bottom": null,
            "_model_module": "@jupyter-widgets/base",
            "top": null,
            "grid_column": null,
            "overflow_y": null,
            "overflow_x": null,
            "grid_auto_flow": null,
            "grid_area": null,
            "grid_template_columns": null,
            "flex": null,
            "_model_name": "LayoutModel",
            "justify_items": null,
            "grid_row": null,
            "max_height": null,
            "align_content": null,
            "visibility": null,
            "align_self": null,
            "height": null,
            "min_height": null,
            "padding": null,
            "grid_auto_rows": null,
            "grid_gap": null,
            "max_width": null,
            "order": null,
            "_view_module_version": "1.2.0",
            "grid_template_areas": null,
            "object_position": null,
            "object_fit": null,
            "grid_auto_columns": null,
            "margin": null,
            "display": null,
            "left": null
          }
        },
        "a27b4b19afd4428ca633e4031e7cc6dd": {
          "model_module": "@jupyter-widgets/controls",
          "model_name": "DescriptionStyleModel",
          "model_module_version": "1.5.0",
          "state": {
            "_view_name": "StyleView",
            "_model_name": "DescriptionStyleModel",
            "description_width": "",
            "_view_module": "@jupyter-widgets/base",
            "_model_module_version": "1.5.0",
            "_view_count": null,
            "_view_module_version": "1.2.0",
            "_model_module": "@jupyter-widgets/controls"
          }
        },
        "95629fb8a9aa4aa8b99668a8ffe3cd64": {
          "model_module": "@jupyter-widgets/base",
          "model_name": "LayoutModel",
          "model_module_version": "1.2.0",
          "state": {
            "_view_name": "LayoutView",
            "grid_template_rows": null,
            "right": null,
            "justify_content": null,
            "_view_module": "@jupyter-widgets/base",
            "overflow": null,
            "_model_module_version": "1.2.0",
            "_view_count": null,
            "flex_flow": null,
            "width": null,
            "min_width": null,
            "border": null,
            "align_items": null,
            "bottom": null,
            "_model_module": "@jupyter-widgets/base",
            "top": null,
            "grid_column": null,
            "overflow_y": null,
            "overflow_x": null,
            "grid_auto_flow": null,
            "grid_area": null,
            "grid_template_columns": null,
            "flex": null,
            "_model_name": "LayoutModel",
            "justify_items": null,
            "grid_row": null,
            "max_height": null,
            "align_content": null,
            "visibility": null,
            "align_self": null,
            "height": null,
            "min_height": null,
            "padding": null,
            "grid_auto_rows": null,
            "grid_gap": null,
            "max_width": null,
            "order": null,
            "_view_module_version": "1.2.0",
            "grid_template_areas": null,
            "object_position": null,
            "object_fit": null,
            "grid_auto_columns": null,
            "margin": null,
            "display": null,
            "left": null
          }
        },
        "4d68abdc64874872850218cd55a7b4d3": {
          "model_module": "@jupyter-widgets/controls",
          "model_name": "HBoxModel",
          "model_module_version": "1.5.0",
          "state": {
            "_view_name": "HBoxView",
            "_dom_classes": [],
            "_model_name": "HBoxModel",
            "_view_module": "@jupyter-widgets/controls",
            "_model_module_version": "1.5.0",
            "_view_count": null,
            "_view_module_version": "1.5.0",
            "box_style": "",
            "layout": "IPY_MODEL_0006730db5204761a520c4420ec8308b",
            "_model_module": "@jupyter-widgets/controls",
            "children": [
              "IPY_MODEL_15d4b5dc8c2f43eab696abf0a607a4e4",
              "IPY_MODEL_8e16588ef1b146389e8207f1be56e3ae",
              "IPY_MODEL_d56b5a7a9944400a9c225b09440491c9"
            ]
          }
        },
        "0006730db5204761a520c4420ec8308b": {
          "model_module": "@jupyter-widgets/base",
          "model_name": "LayoutModel",
          "model_module_version": "1.2.0",
          "state": {
            "_view_name": "LayoutView",
            "grid_template_rows": null,
            "right": null,
            "justify_content": null,
            "_view_module": "@jupyter-widgets/base",
            "overflow": null,
            "_model_module_version": "1.2.0",
            "_view_count": null,
            "flex_flow": null,
            "width": null,
            "min_width": null,
            "border": null,
            "align_items": null,
            "bottom": null,
            "_model_module": "@jupyter-widgets/base",
            "top": null,
            "grid_column": null,
            "overflow_y": null,
            "overflow_x": null,
            "grid_auto_flow": null,
            "grid_area": null,
            "grid_template_columns": null,
            "flex": null,
            "_model_name": "LayoutModel",
            "justify_items": null,
            "grid_row": null,
            "max_height": null,
            "align_content": null,
            "visibility": null,
            "align_self": null,
            "height": null,
            "min_height": null,
            "padding": null,
            "grid_auto_rows": null,
            "grid_gap": null,
            "max_width": null,
            "order": null,
            "_view_module_version": "1.2.0",
            "grid_template_areas": null,
            "object_position": null,
            "object_fit": null,
            "grid_auto_columns": null,
            "margin": null,
            "display": null,
            "left": null
          }
        },
        "15d4b5dc8c2f43eab696abf0a607a4e4": {
          "model_module": "@jupyter-widgets/controls",
          "model_name": "HTMLModel",
          "model_module_version": "1.5.0",
          "state": {
            "_view_name": "HTMLView",
            "style": "IPY_MODEL_caaddd77f886405a81187b36a158fad3",
            "_dom_classes": [],
            "description": "",
            "_model_name": "HTMLModel",
            "placeholder": "​",
            "_view_module": "@jupyter-widgets/controls",
            "_model_module_version": "1.5.0",
            "value": "Extraction completed...: 100%",
            "_view_count": null,
            "_view_module_version": "1.5.0",
            "description_tooltip": null,
            "_model_module": "@jupyter-widgets/controls",
            "layout": "IPY_MODEL_6a92693575044fc4857f6f81624a6a3e"
          }
        },
        "8e16588ef1b146389e8207f1be56e3ae": {
          "model_module": "@jupyter-widgets/controls",
          "model_name": "FloatProgressModel",
          "model_module_version": "1.5.0",
          "state": {
            "_view_name": "ProgressView",
            "style": "IPY_MODEL_1ac9b7b5e9eb4730adc5d4b5df236f45",
            "_dom_classes": [],
            "description": "",
            "_model_name": "FloatProgressModel",
            "bar_style": "success",
            "max": 1,
            "_view_module": "@jupyter-widgets/controls",
            "_model_module_version": "1.5.0",
            "value": 1,
            "_view_count": null,
            "_view_module_version": "1.5.0",
            "orientation": "horizontal",
            "min": 0,
            "description_tooltip": null,
            "_model_module": "@jupyter-widgets/controls",
            "layout": "IPY_MODEL_43863acc37fa456086ac673a5d8c0c95"
          }
        },
        "d56b5a7a9944400a9c225b09440491c9": {
          "model_module": "@jupyter-widgets/controls",
          "model_name": "HTMLModel",
          "model_module_version": "1.5.0",
          "state": {
            "_view_name": "HTMLView",
            "style": "IPY_MODEL_10b9194d44ed47a0b1866407d5c6392c",
            "_dom_classes": [],
            "description": "",
            "_model_name": "HTMLModel",
            "placeholder": "​",
            "_view_module": "@jupyter-widgets/controls",
            "_model_module_version": "1.5.0",
            "value": " 4/4 [00:02&lt;00:00,  1.30 file/s]",
            "_view_count": null,
            "_view_module_version": "1.5.0",
            "description_tooltip": null,
            "_model_module": "@jupyter-widgets/controls",
            "layout": "IPY_MODEL_4b303ffbcad446bdb1cf631562b897ef"
          }
        },
        "caaddd77f886405a81187b36a158fad3": {
          "model_module": "@jupyter-widgets/controls",
          "model_name": "DescriptionStyleModel",
          "model_module_version": "1.5.0",
          "state": {
            "_view_name": "StyleView",
            "_model_name": "DescriptionStyleModel",
            "description_width": "",
            "_view_module": "@jupyter-widgets/base",
            "_model_module_version": "1.5.0",
            "_view_count": null,
            "_view_module_version": "1.2.0",
            "_model_module": "@jupyter-widgets/controls"
          }
        },
        "6a92693575044fc4857f6f81624a6a3e": {
          "model_module": "@jupyter-widgets/base",
          "model_name": "LayoutModel",
          "model_module_version": "1.2.0",
          "state": {
            "_view_name": "LayoutView",
            "grid_template_rows": null,
            "right": null,
            "justify_content": null,
            "_view_module": "@jupyter-widgets/base",
            "overflow": null,
            "_model_module_version": "1.2.0",
            "_view_count": null,
            "flex_flow": null,
            "width": null,
            "min_width": null,
            "border": null,
            "align_items": null,
            "bottom": null,
            "_model_module": "@jupyter-widgets/base",
            "top": null,
            "grid_column": null,
            "overflow_y": null,
            "overflow_x": null,
            "grid_auto_flow": null,
            "grid_area": null,
            "grid_template_columns": null,
            "flex": null,
            "_model_name": "LayoutModel",
            "justify_items": null,
            "grid_row": null,
            "max_height": null,
            "align_content": null,
            "visibility": null,
            "align_self": null,
            "height": null,
            "min_height": null,
            "padding": null,
            "grid_auto_rows": null,
            "grid_gap": null,
            "max_width": null,
            "order": null,
            "_view_module_version": "1.2.0",
            "grid_template_areas": null,
            "object_position": null,
            "object_fit": null,
            "grid_auto_columns": null,
            "margin": null,
            "display": null,
            "left": null
          }
        },
        "1ac9b7b5e9eb4730adc5d4b5df236f45": {
          "model_module": "@jupyter-widgets/controls",
          "model_name": "ProgressStyleModel",
          "model_module_version": "1.5.0",
          "state": {
            "_view_name": "StyleView",
            "_model_name": "ProgressStyleModel",
            "description_width": "",
            "_view_module": "@jupyter-widgets/base",
            "_model_module_version": "1.5.0",
            "_view_count": null,
            "_view_module_version": "1.2.0",
            "bar_color": null,
            "_model_module": "@jupyter-widgets/controls"
          }
        },
        "43863acc37fa456086ac673a5d8c0c95": {
          "model_module": "@jupyter-widgets/base",
          "model_name": "LayoutModel",
          "model_module_version": "1.2.0",
          "state": {
            "_view_name": "LayoutView",
            "grid_template_rows": null,
            "right": null,
            "justify_content": null,
            "_view_module": "@jupyter-widgets/base",
            "overflow": null,
            "_model_module_version": "1.2.0",
            "_view_count": null,
            "flex_flow": null,
            "width": "20px",
            "min_width": null,
            "border": null,
            "align_items": null,
            "bottom": null,
            "_model_module": "@jupyter-widgets/base",
            "top": null,
            "grid_column": null,
            "overflow_y": null,
            "overflow_x": null,
            "grid_auto_flow": null,
            "grid_area": null,
            "grid_template_columns": null,
            "flex": null,
            "_model_name": "LayoutModel",
            "justify_items": null,
            "grid_row": null,
            "max_height": null,
            "align_content": null,
            "visibility": null,
            "align_self": null,
            "height": null,
            "min_height": null,
            "padding": null,
            "grid_auto_rows": null,
            "grid_gap": null,
            "max_width": null,
            "order": null,
            "_view_module_version": "1.2.0",
            "grid_template_areas": null,
            "object_position": null,
            "object_fit": null,
            "grid_auto_columns": null,
            "margin": null,
            "display": null,
            "left": null
          }
        },
        "10b9194d44ed47a0b1866407d5c6392c": {
          "model_module": "@jupyter-widgets/controls",
          "model_name": "DescriptionStyleModel",
          "model_module_version": "1.5.0",
          "state": {
            "_view_name": "StyleView",
            "_model_name": "DescriptionStyleModel",
            "description_width": "",
            "_view_module": "@jupyter-widgets/base",
            "_model_module_version": "1.5.0",
            "_view_count": null,
            "_view_module_version": "1.2.0",
            "_model_module": "@jupyter-widgets/controls"
          }
        },
        "4b303ffbcad446bdb1cf631562b897ef": {
          "model_module": "@jupyter-widgets/base",
          "model_name": "LayoutModel",
          "model_module_version": "1.2.0",
          "state": {
            "_view_name": "LayoutView",
            "grid_template_rows": null,
            "right": null,
            "justify_content": null,
            "_view_module": "@jupyter-widgets/base",
            "overflow": null,
            "_model_module_version": "1.2.0",
            "_view_count": null,
            "flex_flow": null,
            "width": null,
            "min_width": null,
            "border": null,
            "align_items": null,
            "bottom": null,
            "_model_module": "@jupyter-widgets/base",
            "top": null,
            "grid_column": null,
            "overflow_y": null,
            "overflow_x": null,
            "grid_auto_flow": null,
            "grid_area": null,
            "grid_template_columns": null,
            "flex": null,
            "_model_name": "LayoutModel",
            "justify_items": null,
            "grid_row": null,
            "max_height": null,
            "align_content": null,
            "visibility": null,
            "align_self": null,
            "height": null,
            "min_height": null,
            "padding": null,
            "grid_auto_rows": null,
            "grid_gap": null,
            "max_width": null,
            "order": null,
            "_view_module_version": "1.2.0",
            "grid_template_areas": null,
            "object_position": null,
            "object_fit": null,
            "grid_auto_columns": null,
            "margin": null,
            "display": null,
            "left": null
          }
        },
        "1eadf87ac3ea4528b5eddb3bc89d4530": {
          "model_module": "@jupyter-widgets/controls",
          "model_name": "HBoxModel",
          "model_module_version": "1.5.0",
          "state": {
            "_view_name": "HBoxView",
            "_dom_classes": [],
            "_model_name": "HBoxModel",
            "_view_module": "@jupyter-widgets/controls",
            "_model_module_version": "1.5.0",
            "_view_count": null,
            "_view_module_version": "1.5.0",
            "box_style": "",
            "layout": "IPY_MODEL_9c25a7f44ae1484c843d05961492c706",
            "_model_module": "@jupyter-widgets/controls",
            "children": [
              "IPY_MODEL_6cd70cd4fb73457d87fe00554a91d369",
              "IPY_MODEL_12b86924c94f4810b642b60451d9cba3",
              "IPY_MODEL_f4f13cfe21944f2bb8e2933544a68ae7"
            ]
          }
        },
        "9c25a7f44ae1484c843d05961492c706": {
          "model_module": "@jupyter-widgets/base",
          "model_name": "LayoutModel",
          "model_module_version": "1.2.0",
          "state": {
            "_view_name": "LayoutView",
            "grid_template_rows": null,
            "right": null,
            "justify_content": null,
            "_view_module": "@jupyter-widgets/base",
            "overflow": null,
            "_model_module_version": "1.2.0",
            "_view_count": null,
            "flex_flow": null,
            "width": null,
            "min_width": null,
            "border": null,
            "align_items": null,
            "bottom": null,
            "_model_module": "@jupyter-widgets/base",
            "top": null,
            "grid_column": null,
            "overflow_y": null,
            "overflow_x": null,
            "grid_auto_flow": null,
            "grid_area": null,
            "grid_template_columns": null,
            "flex": null,
            "_model_name": "LayoutModel",
            "justify_items": null,
            "grid_row": null,
            "max_height": null,
            "align_content": null,
            "visibility": null,
            "align_self": null,
            "height": null,
            "min_height": null,
            "padding": null,
            "grid_auto_rows": null,
            "grid_gap": null,
            "max_width": null,
            "order": null,
            "_view_module_version": "1.2.0",
            "grid_template_areas": null,
            "object_position": null,
            "object_fit": null,
            "grid_auto_columns": null,
            "margin": null,
            "display": null,
            "left": null
          }
        },
        "6cd70cd4fb73457d87fe00554a91d369": {
          "model_module": "@jupyter-widgets/controls",
          "model_name": "HTMLModel",
          "model_module_version": "1.5.0",
          "state": {
            "_view_name": "HTMLView",
            "style": "IPY_MODEL_62de38b91975403dac4a0c89244679b2",
            "_dom_classes": [],
            "description": "",
            "_model_name": "HTMLModel",
            "placeholder": "​",
            "_view_module": "@jupyter-widgets/controls",
            "_model_module_version": "1.5.0",
            "value": "",
            "_view_count": null,
            "_view_module_version": "1.5.0",
            "description_tooltip": null,
            "_model_module": "@jupyter-widgets/controls",
            "layout": "IPY_MODEL_80c785ee651b492fb1c39cdfd313df84"
          }
        },
        "12b86924c94f4810b642b60451d9cba3": {
          "model_module": "@jupyter-widgets/controls",
          "model_name": "FloatProgressModel",
          "model_module_version": "1.5.0",
          "state": {
            "_view_name": "ProgressView",
            "style": "IPY_MODEL_cc68c40a6c2b4d94874a254bdac8dd74",
            "_dom_classes": [],
            "description": "",
            "_model_name": "FloatProgressModel",
            "bar_style": "info",
            "max": 1,
            "_view_module": "@jupyter-widgets/controls",
            "_model_module_version": "1.5.0",
            "value": 1,
            "_view_count": null,
            "_view_module_version": "1.5.0",
            "orientation": "horizontal",
            "min": 0,
            "description_tooltip": null,
            "_model_module": "@jupyter-widgets/controls",
            "layout": "IPY_MODEL_90fefd7c836042008554771b559c9dc0"
          }
        },
        "f4f13cfe21944f2bb8e2933544a68ae7": {
          "model_module": "@jupyter-widgets/controls",
          "model_name": "HTMLModel",
          "model_module_version": "1.5.0",
          "state": {
            "_view_name": "HTMLView",
            "style": "IPY_MODEL_43c4f279310440b7b493c219f5ef71db",
            "_dom_classes": [],
            "description": "",
            "_model_name": "HTMLModel",
            "placeholder": "​",
            "_view_module": "@jupyter-widgets/controls",
            "_model_module_version": "1.5.0",
            "value": " 59885/0 [00:25&lt;00:00, 2291.88 examples/s]",
            "_view_count": null,
            "_view_module_version": "1.5.0",
            "description_tooltip": null,
            "_model_module": "@jupyter-widgets/controls",
            "layout": "IPY_MODEL_644200a3d5c94a63bca0a79ef37a03ba"
          }
        },
        "62de38b91975403dac4a0c89244679b2": {
          "model_module": "@jupyter-widgets/controls",
          "model_name": "DescriptionStyleModel",
          "model_module_version": "1.5.0",
          "state": {
            "_view_name": "StyleView",
            "_model_name": "DescriptionStyleModel",
            "description_width": "",
            "_view_module": "@jupyter-widgets/base",
            "_model_module_version": "1.5.0",
            "_view_count": null,
            "_view_module_version": "1.2.0",
            "_model_module": "@jupyter-widgets/controls"
          }
        },
        "80c785ee651b492fb1c39cdfd313df84": {
          "model_module": "@jupyter-widgets/base",
          "model_name": "LayoutModel",
          "model_module_version": "1.2.0",
          "state": {
            "_view_name": "LayoutView",
            "grid_template_rows": null,
            "right": null,
            "justify_content": null,
            "_view_module": "@jupyter-widgets/base",
            "overflow": null,
            "_model_module_version": "1.2.0",
            "_view_count": null,
            "flex_flow": null,
            "width": null,
            "min_width": null,
            "border": null,
            "align_items": null,
            "bottom": null,
            "_model_module": "@jupyter-widgets/base",
            "top": null,
            "grid_column": null,
            "overflow_y": null,
            "overflow_x": null,
            "grid_auto_flow": null,
            "grid_area": null,
            "grid_template_columns": null,
            "flex": null,
            "_model_name": "LayoutModel",
            "justify_items": null,
            "grid_row": null,
            "max_height": null,
            "align_content": null,
            "visibility": null,
            "align_self": null,
            "height": null,
            "min_height": null,
            "padding": null,
            "grid_auto_rows": null,
            "grid_gap": null,
            "max_width": null,
            "order": null,
            "_view_module_version": "1.2.0",
            "grid_template_areas": null,
            "object_position": null,
            "object_fit": null,
            "grid_auto_columns": null,
            "margin": null,
            "display": null,
            "left": null
          }
        },
        "cc68c40a6c2b4d94874a254bdac8dd74": {
          "model_module": "@jupyter-widgets/controls",
          "model_name": "ProgressStyleModel",
          "model_module_version": "1.5.0",
          "state": {
            "_view_name": "StyleView",
            "_model_name": "ProgressStyleModel",
            "description_width": "",
            "_view_module": "@jupyter-widgets/base",
            "_model_module_version": "1.5.0",
            "_view_count": null,
            "_view_module_version": "1.2.0",
            "bar_color": null,
            "_model_module": "@jupyter-widgets/controls"
          }
        },
        "90fefd7c836042008554771b559c9dc0": {
          "model_module": "@jupyter-widgets/base",
          "model_name": "LayoutModel",
          "model_module_version": "1.2.0",
          "state": {
            "_view_name": "LayoutView",
            "grid_template_rows": null,
            "right": null,
            "justify_content": null,
            "_view_module": "@jupyter-widgets/base",
            "overflow": null,
            "_model_module_version": "1.2.0",
            "_view_count": null,
            "flex_flow": null,
            "width": "20px",
            "min_width": null,
            "border": null,
            "align_items": null,
            "bottom": null,
            "_model_module": "@jupyter-widgets/base",
            "top": null,
            "grid_column": null,
            "overflow_y": null,
            "overflow_x": null,
            "grid_auto_flow": null,
            "grid_area": null,
            "grid_template_columns": null,
            "flex": null,
            "_model_name": "LayoutModel",
            "justify_items": null,
            "grid_row": null,
            "max_height": null,
            "align_content": null,
            "visibility": null,
            "align_self": null,
            "height": null,
            "min_height": null,
            "padding": null,
            "grid_auto_rows": null,
            "grid_gap": null,
            "max_width": null,
            "order": null,
            "_view_module_version": "1.2.0",
            "grid_template_areas": null,
            "object_position": null,
            "object_fit": null,
            "grid_auto_columns": null,
            "margin": null,
            "display": null,
            "left": null
          }
        },
        "43c4f279310440b7b493c219f5ef71db": {
          "model_module": "@jupyter-widgets/controls",
          "model_name": "DescriptionStyleModel",
          "model_module_version": "1.5.0",
          "state": {
            "_view_name": "StyleView",
            "_model_name": "DescriptionStyleModel",
            "description_width": "",
            "_view_module": "@jupyter-widgets/base",
            "_model_module_version": "1.5.0",
            "_view_count": null,
            "_view_module_version": "1.2.0",
            "_model_module": "@jupyter-widgets/controls"
          }
        },
        "644200a3d5c94a63bca0a79ef37a03ba": {
          "model_module": "@jupyter-widgets/base",
          "model_name": "LayoutModel",
          "model_module_version": "1.2.0",
          "state": {
            "_view_name": "LayoutView",
            "grid_template_rows": null,
            "right": null,
            "justify_content": null,
            "_view_module": "@jupyter-widgets/base",
            "overflow": null,
            "_model_module_version": "1.2.0",
            "_view_count": null,
            "flex_flow": null,
            "width": null,
            "min_width": null,
            "border": null,
            "align_items": null,
            "bottom": null,
            "_model_module": "@jupyter-widgets/base",
            "top": null,
            "grid_column": null,
            "overflow_y": null,
            "overflow_x": null,
            "grid_auto_flow": null,
            "grid_area": null,
            "grid_template_columns": null,
            "flex": null,
            "_model_name": "LayoutModel",
            "justify_items": null,
            "grid_row": null,
            "max_height": null,
            "align_content": null,
            "visibility": null,
            "align_self": null,
            "height": null,
            "min_height": null,
            "padding": null,
            "grid_auto_rows": null,
            "grid_gap": null,
            "max_width": null,
            "order": null,
            "_view_module_version": "1.2.0",
            "grid_template_areas": null,
            "object_position": null,
            "object_fit": null,
            "grid_auto_columns": null,
            "margin": null,
            "display": null,
            "left": null
          }
        },
        "326fd38e0c3d45aab0f0197cff264e69": {
          "model_module": "@jupyter-widgets/controls",
          "model_name": "HBoxModel",
          "model_module_version": "1.5.0",
          "state": {
            "_view_name": "HBoxView",
            "_dom_classes": [],
            "_model_name": "HBoxModel",
            "_view_module": "@jupyter-widgets/controls",
            "_model_module_version": "1.5.0",
            "_view_count": null,
            "_view_module_version": "1.5.0",
            "box_style": "",
            "layout": "IPY_MODEL_cf74ac8350b8455f888da9118477a637",
            "_model_module": "@jupyter-widgets/controls",
            "children": [
              "IPY_MODEL_dbd19941d9df46d5a00bfc105d34fded",
              "IPY_MODEL_0c4e8fd2431b4190811a1fbe83797ae1",
              "IPY_MODEL_2c2f6c1fa2c346b88edd26e71ab74365"
            ]
          }
        },
        "cf74ac8350b8455f888da9118477a637": {
          "model_module": "@jupyter-widgets/base",
          "model_name": "LayoutModel",
          "model_module_version": "1.2.0",
          "state": {
            "_view_name": "LayoutView",
            "grid_template_rows": null,
            "right": null,
            "justify_content": null,
            "_view_module": "@jupyter-widgets/base",
            "overflow": null,
            "_model_module_version": "1.2.0",
            "_view_count": null,
            "flex_flow": null,
            "width": null,
            "min_width": null,
            "border": null,
            "align_items": null,
            "bottom": null,
            "_model_module": "@jupyter-widgets/base",
            "top": null,
            "grid_column": null,
            "overflow_y": null,
            "overflow_x": null,
            "grid_auto_flow": null,
            "grid_area": null,
            "grid_template_columns": null,
            "flex": null,
            "_model_name": "LayoutModel",
            "justify_items": null,
            "grid_row": null,
            "max_height": null,
            "align_content": null,
            "visibility": null,
            "align_self": null,
            "height": null,
            "min_height": null,
            "padding": null,
            "grid_auto_rows": null,
            "grid_gap": null,
            "max_width": null,
            "order": null,
            "_view_module_version": "1.2.0",
            "grid_template_areas": null,
            "object_position": null,
            "object_fit": null,
            "grid_auto_columns": null,
            "margin": null,
            "display": null,
            "left": null
          }
        },
        "dbd19941d9df46d5a00bfc105d34fded": {
          "model_module": "@jupyter-widgets/controls",
          "model_name": "HTMLModel",
          "model_module_version": "1.5.0",
          "state": {
            "_view_name": "HTMLView",
            "style": "IPY_MODEL_d57015bb41be4250a7bc6fcaee889906",
            "_dom_classes": [],
            "description": "",
            "_model_name": "HTMLModel",
            "placeholder": "​",
            "_view_module": "@jupyter-widgets/controls",
            "_model_module_version": "1.5.0",
            "value": "100%",
            "_view_count": null,
            "_view_module_version": "1.5.0",
            "description_tooltip": null,
            "_model_module": "@jupyter-widgets/controls",
            "layout": "IPY_MODEL_3ffa4a764a5a4e88975486f652923716"
          }
        },
        "0c4e8fd2431b4190811a1fbe83797ae1": {
          "model_module": "@jupyter-widgets/controls",
          "model_name": "FloatProgressModel",
          "model_module_version": "1.5.0",
          "state": {
            "_view_name": "ProgressView",
            "style": "IPY_MODEL_e4345ccd4cac4d00a0655279caf6698e",
            "_dom_classes": [],
            "description": "",
            "_model_name": "FloatProgressModel",
            "bar_style": "danger",
            "max": 60000,
            "_view_module": "@jupyter-widgets/controls",
            "_model_module_version": "1.5.0",
            "value": 59999,
            "_view_count": null,
            "_view_module_version": "1.5.0",
            "orientation": "horizontal",
            "min": 0,
            "description_tooltip": null,
            "_model_module": "@jupyter-widgets/controls",
            "layout": "IPY_MODEL_450c59ea91bb43aba289793851262255"
          }
        },
        "2c2f6c1fa2c346b88edd26e71ab74365": {
          "model_module": "@jupyter-widgets/controls",
          "model_name": "HTMLModel",
          "model_module_version": "1.5.0",
          "state": {
            "_view_name": "HTMLView",
            "style": "IPY_MODEL_940bbd144b6e46ba90a0fb3a84a60ac4",
            "_dom_classes": [],
            "description": "",
            "_model_name": "HTMLModel",
            "placeholder": "​",
            "_view_module": "@jupyter-widgets/controls",
            "_model_module_version": "1.5.0",
            "value": " 59999/60000 [00:00&lt;00:00, 203013.40 examples/s]",
            "_view_count": null,
            "_view_module_version": "1.5.0",
            "description_tooltip": null,
            "_model_module": "@jupyter-widgets/controls",
            "layout": "IPY_MODEL_40d63f908fc1462283cfac03147bfa86"
          }
        },
        "d57015bb41be4250a7bc6fcaee889906": {
          "model_module": "@jupyter-widgets/controls",
          "model_name": "DescriptionStyleModel",
          "model_module_version": "1.5.0",
          "state": {
            "_view_name": "StyleView",
            "_model_name": "DescriptionStyleModel",
            "description_width": "",
            "_view_module": "@jupyter-widgets/base",
            "_model_module_version": "1.5.0",
            "_view_count": null,
            "_view_module_version": "1.2.0",
            "_model_module": "@jupyter-widgets/controls"
          }
        },
        "3ffa4a764a5a4e88975486f652923716": {
          "model_module": "@jupyter-widgets/base",
          "model_name": "LayoutModel",
          "model_module_version": "1.2.0",
          "state": {
            "_view_name": "LayoutView",
            "grid_template_rows": null,
            "right": null,
            "justify_content": null,
            "_view_module": "@jupyter-widgets/base",
            "overflow": null,
            "_model_module_version": "1.2.0",
            "_view_count": null,
            "flex_flow": null,
            "width": null,
            "min_width": null,
            "border": null,
            "align_items": null,
            "bottom": null,
            "_model_module": "@jupyter-widgets/base",
            "top": null,
            "grid_column": null,
            "overflow_y": null,
            "overflow_x": null,
            "grid_auto_flow": null,
            "grid_area": null,
            "grid_template_columns": null,
            "flex": null,
            "_model_name": "LayoutModel",
            "justify_items": null,
            "grid_row": null,
            "max_height": null,
            "align_content": null,
            "visibility": null,
            "align_self": null,
            "height": null,
            "min_height": null,
            "padding": null,
            "grid_auto_rows": null,
            "grid_gap": null,
            "max_width": null,
            "order": null,
            "_view_module_version": "1.2.0",
            "grid_template_areas": null,
            "object_position": null,
            "object_fit": null,
            "grid_auto_columns": null,
            "margin": null,
            "display": null,
            "left": null
          }
        },
        "e4345ccd4cac4d00a0655279caf6698e": {
          "model_module": "@jupyter-widgets/controls",
          "model_name": "ProgressStyleModel",
          "model_module_version": "1.5.0",
          "state": {
            "_view_name": "StyleView",
            "_model_name": "ProgressStyleModel",
            "description_width": "",
            "_view_module": "@jupyter-widgets/base",
            "_model_module_version": "1.5.0",
            "_view_count": null,
            "_view_module_version": "1.2.0",
            "bar_color": null,
            "_model_module": "@jupyter-widgets/controls"
          }
        },
        "450c59ea91bb43aba289793851262255": {
          "model_module": "@jupyter-widgets/base",
          "model_name": "LayoutModel",
          "model_module_version": "1.2.0",
          "state": {
            "_view_name": "LayoutView",
            "grid_template_rows": null,
            "right": null,
            "justify_content": null,
            "_view_module": "@jupyter-widgets/base",
            "overflow": null,
            "_model_module_version": "1.2.0",
            "_view_count": null,
            "flex_flow": null,
            "width": null,
            "min_width": null,
            "border": null,
            "align_items": null,
            "bottom": null,
            "_model_module": "@jupyter-widgets/base",
            "top": null,
            "grid_column": null,
            "overflow_y": null,
            "overflow_x": null,
            "grid_auto_flow": null,
            "grid_area": null,
            "grid_template_columns": null,
            "flex": null,
            "_model_name": "LayoutModel",
            "justify_items": null,
            "grid_row": null,
            "max_height": null,
            "align_content": null,
            "visibility": null,
            "align_self": null,
            "height": null,
            "min_height": null,
            "padding": null,
            "grid_auto_rows": null,
            "grid_gap": null,
            "max_width": null,
            "order": null,
            "_view_module_version": "1.2.0",
            "grid_template_areas": null,
            "object_position": null,
            "object_fit": null,
            "grid_auto_columns": null,
            "margin": null,
            "display": null,
            "left": null
          }
        },
        "940bbd144b6e46ba90a0fb3a84a60ac4": {
          "model_module": "@jupyter-widgets/controls",
          "model_name": "DescriptionStyleModel",
          "model_module_version": "1.5.0",
          "state": {
            "_view_name": "StyleView",
            "_model_name": "DescriptionStyleModel",
            "description_width": "",
            "_view_module": "@jupyter-widgets/base",
            "_model_module_version": "1.5.0",
            "_view_count": null,
            "_view_module_version": "1.2.0",
            "_model_module": "@jupyter-widgets/controls"
          }
        },
        "40d63f908fc1462283cfac03147bfa86": {
          "model_module": "@jupyter-widgets/base",
          "model_name": "LayoutModel",
          "model_module_version": "1.2.0",
          "state": {
            "_view_name": "LayoutView",
            "grid_template_rows": null,
            "right": null,
            "justify_content": null,
            "_view_module": "@jupyter-widgets/base",
            "overflow": null,
            "_model_module_version": "1.2.0",
            "_view_count": null,
            "flex_flow": null,
            "width": null,
            "min_width": null,
            "border": null,
            "align_items": null,
            "bottom": null,
            "_model_module": "@jupyter-widgets/base",
            "top": null,
            "grid_column": null,
            "overflow_y": null,
            "overflow_x": null,
            "grid_auto_flow": null,
            "grid_area": null,
            "grid_template_columns": null,
            "flex": null,
            "_model_name": "LayoutModel",
            "justify_items": null,
            "grid_row": null,
            "max_height": null,
            "align_content": null,
            "visibility": null,
            "align_self": null,
            "height": null,
            "min_height": null,
            "padding": null,
            "grid_auto_rows": null,
            "grid_gap": null,
            "max_width": null,
            "order": null,
            "_view_module_version": "1.2.0",
            "grid_template_areas": null,
            "object_position": null,
            "object_fit": null,
            "grid_auto_columns": null,
            "margin": null,
            "display": null,
            "left": null
          }
        },
        "fbc30f0016b14f4b9d040e2d221f4da9": {
          "model_module": "@jupyter-widgets/controls",
          "model_name": "HBoxModel",
          "model_module_version": "1.5.0",
          "state": {
            "_view_name": "HBoxView",
            "_dom_classes": [],
            "_model_name": "HBoxModel",
            "_view_module": "@jupyter-widgets/controls",
            "_model_module_version": "1.5.0",
            "_view_count": null,
            "_view_module_version": "1.5.0",
            "box_style": "",
            "layout": "IPY_MODEL_c2a6988b94874d01afcdeeaf9b5a14b2",
            "_model_module": "@jupyter-widgets/controls",
            "children": [
              "IPY_MODEL_ec0404057c1243c39756398d873cd134",
              "IPY_MODEL_98cdf18ca9f746c9ac9c94fba71ab057",
              "IPY_MODEL_62738d77def046789931454ed096a8ff"
            ]
          }
        },
        "c2a6988b94874d01afcdeeaf9b5a14b2": {
          "model_module": "@jupyter-widgets/base",
          "model_name": "LayoutModel",
          "model_module_version": "1.2.0",
          "state": {
            "_view_name": "LayoutView",
            "grid_template_rows": null,
            "right": null,
            "justify_content": null,
            "_view_module": "@jupyter-widgets/base",
            "overflow": null,
            "_model_module_version": "1.2.0",
            "_view_count": null,
            "flex_flow": null,
            "width": null,
            "min_width": null,
            "border": null,
            "align_items": null,
            "bottom": null,
            "_model_module": "@jupyter-widgets/base",
            "top": null,
            "grid_column": null,
            "overflow_y": null,
            "overflow_x": null,
            "grid_auto_flow": null,
            "grid_area": null,
            "grid_template_columns": null,
            "flex": null,
            "_model_name": "LayoutModel",
            "justify_items": null,
            "grid_row": null,
            "max_height": null,
            "align_content": null,
            "visibility": null,
            "align_self": null,
            "height": null,
            "min_height": null,
            "padding": null,
            "grid_auto_rows": null,
            "grid_gap": null,
            "max_width": null,
            "order": null,
            "_view_module_version": "1.2.0",
            "grid_template_areas": null,
            "object_position": null,
            "object_fit": null,
            "grid_auto_columns": null,
            "margin": null,
            "display": null,
            "left": null
          }
        },
        "ec0404057c1243c39756398d873cd134": {
          "model_module": "@jupyter-widgets/controls",
          "model_name": "HTMLModel",
          "model_module_version": "1.5.0",
          "state": {
            "_view_name": "HTMLView",
            "style": "IPY_MODEL_7a6e27010a78415f8c5f61ccceb89643",
            "_dom_classes": [],
            "description": "",
            "_model_name": "HTMLModel",
            "placeholder": "​",
            "_view_module": "@jupyter-widgets/controls",
            "_model_module_version": "1.5.0",
            "value": "",
            "_view_count": null,
            "_view_module_version": "1.5.0",
            "description_tooltip": null,
            "_model_module": "@jupyter-widgets/controls",
            "layout": "IPY_MODEL_e90f1a86aecc4f4d9badc973f280e398"
          }
        },
        "98cdf18ca9f746c9ac9c94fba71ab057": {
          "model_module": "@jupyter-widgets/controls",
          "model_name": "FloatProgressModel",
          "model_module_version": "1.5.0",
          "state": {
            "_view_name": "ProgressView",
            "style": "IPY_MODEL_79c410ee9ac04e21aaf3e8f588059a9c",
            "_dom_classes": [],
            "description": "",
            "_model_name": "FloatProgressModel",
            "bar_style": "info",
            "max": 1,
            "_view_module": "@jupyter-widgets/controls",
            "_model_module_version": "1.5.0",
            "value": 1,
            "_view_count": null,
            "_view_module_version": "1.5.0",
            "orientation": "horizontal",
            "min": 0,
            "description_tooltip": null,
            "_model_module": "@jupyter-widgets/controls",
            "layout": "IPY_MODEL_ecba648bfabe4db6b0433a602cf53b0a"
          }
        },
        "62738d77def046789931454ed096a8ff": {
          "model_module": "@jupyter-widgets/controls",
          "model_name": "HTMLModel",
          "model_module_version": "1.5.0",
          "state": {
            "_view_name": "HTMLView",
            "style": "IPY_MODEL_c38c2dd95024410a81a6fb5b46422254",
            "_dom_classes": [],
            "description": "",
            "_model_name": "HTMLModel",
            "placeholder": "​",
            "_view_module": "@jupyter-widgets/controls",
            "_model_module_version": "1.5.0",
            "value": " 9836/0 [00:04&lt;00:00, 2100.79 examples/s]",
            "_view_count": null,
            "_view_module_version": "1.5.0",
            "description_tooltip": null,
            "_model_module": "@jupyter-widgets/controls",
            "layout": "IPY_MODEL_3be5cbf02d164ca4818f6731db5bcb19"
          }
        },
        "7a6e27010a78415f8c5f61ccceb89643": {
          "model_module": "@jupyter-widgets/controls",
          "model_name": "DescriptionStyleModel",
          "model_module_version": "1.5.0",
          "state": {
            "_view_name": "StyleView",
            "_model_name": "DescriptionStyleModel",
            "description_width": "",
            "_view_module": "@jupyter-widgets/base",
            "_model_module_version": "1.5.0",
            "_view_count": null,
            "_view_module_version": "1.2.0",
            "_model_module": "@jupyter-widgets/controls"
          }
        },
        "e90f1a86aecc4f4d9badc973f280e398": {
          "model_module": "@jupyter-widgets/base",
          "model_name": "LayoutModel",
          "model_module_version": "1.2.0",
          "state": {
            "_view_name": "LayoutView",
            "grid_template_rows": null,
            "right": null,
            "justify_content": null,
            "_view_module": "@jupyter-widgets/base",
            "overflow": null,
            "_model_module_version": "1.2.0",
            "_view_count": null,
            "flex_flow": null,
            "width": null,
            "min_width": null,
            "border": null,
            "align_items": null,
            "bottom": null,
            "_model_module": "@jupyter-widgets/base",
            "top": null,
            "grid_column": null,
            "overflow_y": null,
            "overflow_x": null,
            "grid_auto_flow": null,
            "grid_area": null,
            "grid_template_columns": null,
            "flex": null,
            "_model_name": "LayoutModel",
            "justify_items": null,
            "grid_row": null,
            "max_height": null,
            "align_content": null,
            "visibility": null,
            "align_self": null,
            "height": null,
            "min_height": null,
            "padding": null,
            "grid_auto_rows": null,
            "grid_gap": null,
            "max_width": null,
            "order": null,
            "_view_module_version": "1.2.0",
            "grid_template_areas": null,
            "object_position": null,
            "object_fit": null,
            "grid_auto_columns": null,
            "margin": null,
            "display": null,
            "left": null
          }
        },
        "79c410ee9ac04e21aaf3e8f588059a9c": {
          "model_module": "@jupyter-widgets/controls",
          "model_name": "ProgressStyleModel",
          "model_module_version": "1.5.0",
          "state": {
            "_view_name": "StyleView",
            "_model_name": "ProgressStyleModel",
            "description_width": "",
            "_view_module": "@jupyter-widgets/base",
            "_model_module_version": "1.5.0",
            "_view_count": null,
            "_view_module_version": "1.2.0",
            "bar_color": null,
            "_model_module": "@jupyter-widgets/controls"
          }
        },
        "ecba648bfabe4db6b0433a602cf53b0a": {
          "model_module": "@jupyter-widgets/base",
          "model_name": "LayoutModel",
          "model_module_version": "1.2.0",
          "state": {
            "_view_name": "LayoutView",
            "grid_template_rows": null,
            "right": null,
            "justify_content": null,
            "_view_module": "@jupyter-widgets/base",
            "overflow": null,
            "_model_module_version": "1.2.0",
            "_view_count": null,
            "flex_flow": null,
            "width": "20px",
            "min_width": null,
            "border": null,
            "align_items": null,
            "bottom": null,
            "_model_module": "@jupyter-widgets/base",
            "top": null,
            "grid_column": null,
            "overflow_y": null,
            "overflow_x": null,
            "grid_auto_flow": null,
            "grid_area": null,
            "grid_template_columns": null,
            "flex": null,
            "_model_name": "LayoutModel",
            "justify_items": null,
            "grid_row": null,
            "max_height": null,
            "align_content": null,
            "visibility": null,
            "align_self": null,
            "height": null,
            "min_height": null,
            "padding": null,
            "grid_auto_rows": null,
            "grid_gap": null,
            "max_width": null,
            "order": null,
            "_view_module_version": "1.2.0",
            "grid_template_areas": null,
            "object_position": null,
            "object_fit": null,
            "grid_auto_columns": null,
            "margin": null,
            "display": null,
            "left": null
          }
        },
        "c38c2dd95024410a81a6fb5b46422254": {
          "model_module": "@jupyter-widgets/controls",
          "model_name": "DescriptionStyleModel",
          "model_module_version": "1.5.0",
          "state": {
            "_view_name": "StyleView",
            "_model_name": "DescriptionStyleModel",
            "description_width": "",
            "_view_module": "@jupyter-widgets/base",
            "_model_module_version": "1.5.0",
            "_view_count": null,
            "_view_module_version": "1.2.0",
            "_model_module": "@jupyter-widgets/controls"
          }
        },
        "3be5cbf02d164ca4818f6731db5bcb19": {
          "model_module": "@jupyter-widgets/base",
          "model_name": "LayoutModel",
          "model_module_version": "1.2.0",
          "state": {
            "_view_name": "LayoutView",
            "grid_template_rows": null,
            "right": null,
            "justify_content": null,
            "_view_module": "@jupyter-widgets/base",
            "overflow": null,
            "_model_module_version": "1.2.0",
            "_view_count": null,
            "flex_flow": null,
            "width": null,
            "min_width": null,
            "border": null,
            "align_items": null,
            "bottom": null,
            "_model_module": "@jupyter-widgets/base",
            "top": null,
            "grid_column": null,
            "overflow_y": null,
            "overflow_x": null,
            "grid_auto_flow": null,
            "grid_area": null,
            "grid_template_columns": null,
            "flex": null,
            "_model_name": "LayoutModel",
            "justify_items": null,
            "grid_row": null,
            "max_height": null,
            "align_content": null,
            "visibility": null,
            "align_self": null,
            "height": null,
            "min_height": null,
            "padding": null,
            "grid_auto_rows": null,
            "grid_gap": null,
            "max_width": null,
            "order": null,
            "_view_module_version": "1.2.0",
            "grid_template_areas": null,
            "object_position": null,
            "object_fit": null,
            "grid_auto_columns": null,
            "margin": null,
            "display": null,
            "left": null
          }
        },
        "de57bca585b2402cb8424014b42199c5": {
          "model_module": "@jupyter-widgets/controls",
          "model_name": "HBoxModel",
          "model_module_version": "1.5.0",
          "state": {
            "_view_name": "HBoxView",
            "_dom_classes": [],
            "_model_name": "HBoxModel",
            "_view_module": "@jupyter-widgets/controls",
            "_model_module_version": "1.5.0",
            "_view_count": null,
            "_view_module_version": "1.5.0",
            "box_style": "",
            "layout": "IPY_MODEL_474bc3b73ac845bb8c72a5352c92ee34",
            "_model_module": "@jupyter-widgets/controls",
            "children": [
              "IPY_MODEL_fc83a8b3bcec48eeaf1f02ea80c0e799",
              "IPY_MODEL_ecba8c6d322746dc9dbe80f2d80c4e6d",
              "IPY_MODEL_c136fcaefe704e4b9bd040b5debc8cf8"
            ]
          }
        },
        "474bc3b73ac845bb8c72a5352c92ee34": {
          "model_module": "@jupyter-widgets/base",
          "model_name": "LayoutModel",
          "model_module_version": "1.2.0",
          "state": {
            "_view_name": "LayoutView",
            "grid_template_rows": null,
            "right": null,
            "justify_content": null,
            "_view_module": "@jupyter-widgets/base",
            "overflow": null,
            "_model_module_version": "1.2.0",
            "_view_count": null,
            "flex_flow": null,
            "width": null,
            "min_width": null,
            "border": null,
            "align_items": null,
            "bottom": null,
            "_model_module": "@jupyter-widgets/base",
            "top": null,
            "grid_column": null,
            "overflow_y": null,
            "overflow_x": null,
            "grid_auto_flow": null,
            "grid_area": null,
            "grid_template_columns": null,
            "flex": null,
            "_model_name": "LayoutModel",
            "justify_items": null,
            "grid_row": null,
            "max_height": null,
            "align_content": null,
            "visibility": null,
            "align_self": null,
            "height": null,
            "min_height": null,
            "padding": null,
            "grid_auto_rows": null,
            "grid_gap": null,
            "max_width": null,
            "order": null,
            "_view_module_version": "1.2.0",
            "grid_template_areas": null,
            "object_position": null,
            "object_fit": null,
            "grid_auto_columns": null,
            "margin": null,
            "display": null,
            "left": null
          }
        },
        "fc83a8b3bcec48eeaf1f02ea80c0e799": {
          "model_module": "@jupyter-widgets/controls",
          "model_name": "HTMLModel",
          "model_module_version": "1.5.0",
          "state": {
            "_view_name": "HTMLView",
            "style": "IPY_MODEL_9614f19952554070b2585e54897c6b43",
            "_dom_classes": [],
            "description": "",
            "_model_name": "HTMLModel",
            "placeholder": "​",
            "_view_module": "@jupyter-widgets/controls",
            "_model_module_version": "1.5.0",
            "value": "100%",
            "_view_count": null,
            "_view_module_version": "1.5.0",
            "description_tooltip": null,
            "_model_module": "@jupyter-widgets/controls",
            "layout": "IPY_MODEL_bb4bd7eae66e4b1e880d10fa20e6ef62"
          }
        },
        "ecba8c6d322746dc9dbe80f2d80c4e6d": {
          "model_module": "@jupyter-widgets/controls",
          "model_name": "FloatProgressModel",
          "model_module_version": "1.5.0",
          "state": {
            "_view_name": "ProgressView",
            "style": "IPY_MODEL_0b54ccddb207463387855e333d2676f8",
            "_dom_classes": [],
            "description": "",
            "_model_name": "FloatProgressModel",
            "bar_style": "danger",
            "max": 10000,
            "_view_module": "@jupyter-widgets/controls",
            "_model_module_version": "1.5.0",
            "value": 9999,
            "_view_count": null,
            "_view_module_version": "1.5.0",
            "orientation": "horizontal",
            "min": 0,
            "description_tooltip": null,
            "_model_module": "@jupyter-widgets/controls",
            "layout": "IPY_MODEL_ac2ab42b33f24e5e9972e4039350f66b"
          }
        },
        "c136fcaefe704e4b9bd040b5debc8cf8": {
          "model_module": "@jupyter-widgets/controls",
          "model_name": "HTMLModel",
          "model_module_version": "1.5.0",
          "state": {
            "_view_name": "HTMLView",
            "style": "IPY_MODEL_e1352b9917e34181998dad96644a7a62",
            "_dom_classes": [],
            "description": "",
            "_model_name": "HTMLModel",
            "placeholder": "​",
            "_view_module": "@jupyter-widgets/controls",
            "_model_module_version": "1.5.0",
            "value": " 9999/10000 [00:00&lt;00:00, 93201.42 examples/s]",
            "_view_count": null,
            "_view_module_version": "1.5.0",
            "description_tooltip": null,
            "_model_module": "@jupyter-widgets/controls",
            "layout": "IPY_MODEL_66b3f02e387e47d9956d518d1fe04391"
          }
        },
        "9614f19952554070b2585e54897c6b43": {
          "model_module": "@jupyter-widgets/controls",
          "model_name": "DescriptionStyleModel",
          "model_module_version": "1.5.0",
          "state": {
            "_view_name": "StyleView",
            "_model_name": "DescriptionStyleModel",
            "description_width": "",
            "_view_module": "@jupyter-widgets/base",
            "_model_module_version": "1.5.0",
            "_view_count": null,
            "_view_module_version": "1.2.0",
            "_model_module": "@jupyter-widgets/controls"
          }
        },
        "bb4bd7eae66e4b1e880d10fa20e6ef62": {
          "model_module": "@jupyter-widgets/base",
          "model_name": "LayoutModel",
          "model_module_version": "1.2.0",
          "state": {
            "_view_name": "LayoutView",
            "grid_template_rows": null,
            "right": null,
            "justify_content": null,
            "_view_module": "@jupyter-widgets/base",
            "overflow": null,
            "_model_module_version": "1.2.0",
            "_view_count": null,
            "flex_flow": null,
            "width": null,
            "min_width": null,
            "border": null,
            "align_items": null,
            "bottom": null,
            "_model_module": "@jupyter-widgets/base",
            "top": null,
            "grid_column": null,
            "overflow_y": null,
            "overflow_x": null,
            "grid_auto_flow": null,
            "grid_area": null,
            "grid_template_columns": null,
            "flex": null,
            "_model_name": "LayoutModel",
            "justify_items": null,
            "grid_row": null,
            "max_height": null,
            "align_content": null,
            "visibility": null,
            "align_self": null,
            "height": null,
            "min_height": null,
            "padding": null,
            "grid_auto_rows": null,
            "grid_gap": null,
            "max_width": null,
            "order": null,
            "_view_module_version": "1.2.0",
            "grid_template_areas": null,
            "object_position": null,
            "object_fit": null,
            "grid_auto_columns": null,
            "margin": null,
            "display": null,
            "left": null
          }
        },
        "0b54ccddb207463387855e333d2676f8": {
          "model_module": "@jupyter-widgets/controls",
          "model_name": "ProgressStyleModel",
          "model_module_version": "1.5.0",
          "state": {
            "_view_name": "StyleView",
            "_model_name": "ProgressStyleModel",
            "description_width": "",
            "_view_module": "@jupyter-widgets/base",
            "_model_module_version": "1.5.0",
            "_view_count": null,
            "_view_module_version": "1.2.0",
            "bar_color": null,
            "_model_module": "@jupyter-widgets/controls"
          }
        },
        "ac2ab42b33f24e5e9972e4039350f66b": {
          "model_module": "@jupyter-widgets/base",
          "model_name": "LayoutModel",
          "model_module_version": "1.2.0",
          "state": {
            "_view_name": "LayoutView",
            "grid_template_rows": null,
            "right": null,
            "justify_content": null,
            "_view_module": "@jupyter-widgets/base",
            "overflow": null,
            "_model_module_version": "1.2.0",
            "_view_count": null,
            "flex_flow": null,
            "width": null,
            "min_width": null,
            "border": null,
            "align_items": null,
            "bottom": null,
            "_model_module": "@jupyter-widgets/base",
            "top": null,
            "grid_column": null,
            "overflow_y": null,
            "overflow_x": null,
            "grid_auto_flow": null,
            "grid_area": null,
            "grid_template_columns": null,
            "flex": null,
            "_model_name": "LayoutModel",
            "justify_items": null,
            "grid_row": null,
            "max_height": null,
            "align_content": null,
            "visibility": null,
            "align_self": null,
            "height": null,
            "min_height": null,
            "padding": null,
            "grid_auto_rows": null,
            "grid_gap": null,
            "max_width": null,
            "order": null,
            "_view_module_version": "1.2.0",
            "grid_template_areas": null,
            "object_position": null,
            "object_fit": null,
            "grid_auto_columns": null,
            "margin": null,
            "display": null,
            "left": null
          }
        },
        "e1352b9917e34181998dad96644a7a62": {
          "model_module": "@jupyter-widgets/controls",
          "model_name": "DescriptionStyleModel",
          "model_module_version": "1.5.0",
          "state": {
            "_view_name": "StyleView",
            "_model_name": "DescriptionStyleModel",
            "description_width": "",
            "_view_module": "@jupyter-widgets/base",
            "_model_module_version": "1.5.0",
            "_view_count": null,
            "_view_module_version": "1.2.0",
            "_model_module": "@jupyter-widgets/controls"
          }
        },
        "66b3f02e387e47d9956d518d1fe04391": {
          "model_module": "@jupyter-widgets/base",
          "model_name": "LayoutModel",
          "model_module_version": "1.2.0",
          "state": {
            "_view_name": "LayoutView",
            "grid_template_rows": null,
            "right": null,
            "justify_content": null,
            "_view_module": "@jupyter-widgets/base",
            "overflow": null,
            "_model_module_version": "1.2.0",
            "_view_count": null,
            "flex_flow": null,
            "width": null,
            "min_width": null,
            "border": null,
            "align_items": null,
            "bottom": null,
            "_model_module": "@jupyter-widgets/base",
            "top": null,
            "grid_column": null,
            "overflow_y": null,
            "overflow_x": null,
            "grid_auto_flow": null,
            "grid_area": null,
            "grid_template_columns": null,
            "flex": null,
            "_model_name": "LayoutModel",
            "justify_items": null,
            "grid_row": null,
            "max_height": null,
            "align_content": null,
            "visibility": null,
            "align_self": null,
            "height": null,
            "min_height": null,
            "padding": null,
            "grid_auto_rows": null,
            "grid_gap": null,
            "max_width": null,
            "order": null,
            "_view_module_version": "1.2.0",
            "grid_template_areas": null,
            "object_position": null,
            "object_fit": null,
            "grid_auto_columns": null,
            "margin": null,
            "display": null,
            "left": null
          }
        }
      }
    }
  },
  "cells": [
    {
      "cell_type": "code",
      "execution_count": 26,
      "metadata": {
        "id": "Wqv8hWTRTg-o"
      },
      "outputs": [],
      "source": [
        "import tensorflow as tf\n",
        "import tensorflow_datasets as tfds\n",
        "import cv2\n",
        "import matplotlib.pyplot as plt\n",
        "import numpy as np\n",
        "np.set_printoptions(linewidth=100000, precision=3)\n",
        "import sys\n",
        "import pandas as pd\n",
        "\n",
        "from skimage import data, io, filters\n",
        "from skimage.transform import resize\n",
        "\n",
        "\n",
        "from sklearn.preprocessing import StandardScaler\n",
        "from sklearn.decomposition import PCA\n",
        "from sklearn.ensemble import RandomForestClassifier\n",
        "from sklearn.metrics import confusion_matrix\n",
        "from sklearn.metrics import accuracy_score\n",
        "\n",
        "\n",
        "\n",
        "#data = tfds.load('fashion_mnist')\n"
      ]
    },
    {
      "cell_type": "code",
      "source": [
        "(img_train, label_train), (img_test, label_test) = tfds.as_numpy(tfds.load(\n",
        "    'fashion_mnist',\n",
        "    split=['train', 'test'],\n",
        "    batch_size=-1,\n",
        "    as_supervised=True,\n",
        "))"
      ],
      "metadata": {
        "id": "Y1Zxhhn9ICWw",
        "colab": {
          "base_uri": "https://localhost:8080/",
          "height": 423,
          "referenced_widgets": [
            "8b3156c6d7d248cdadb6eee63cb1f012",
            "0aa11afb98b54b5b9d875d9e97e53ed2",
            "f1b3617016f24c77991dae5bdaa053e5",
            "7215878f239d4590a2c857117186a8f1",
            "338345b14ba74ec793a587accb189e1e",
            "da5aea3736ae4cf8beb11db5d241329c",
            "6c32adb95f0d4ae4b96dbb70fcd5ac18",
            "521009078f9f41799fb8f41dd0825805",
            "2a1d3e3f1c4f458985fbfbf22206db84",
            "945274323c074988b2408f318bf7b0b5",
            "8008e74bbf6b47119ff5d882708401be",
            "e36a528c4ec04e36a7e19c33cd1bc906",
            "6e43a21b8bdb459f8caf5a22ba49f55d",
            "fd9142ff411f4975a8f4250ae30cd9ee",
            "5073414941d748c0adff401ffee823eb",
            "998b1b553f5140a8afe2a55e193d63c1",
            "28afe1b7546a41cfb48f2b5e269f6484",
            "85b0a8cf0a8149168abcc6d027671fdc",
            "f434e4f87cca429b89adf7c6ea9d3c69",
            "d9a700c4ed6b4e93b3777e2b950bafbb",
            "a27b4b19afd4428ca633e4031e7cc6dd",
            "95629fb8a9aa4aa8b99668a8ffe3cd64",
            "4d68abdc64874872850218cd55a7b4d3",
            "0006730db5204761a520c4420ec8308b",
            "15d4b5dc8c2f43eab696abf0a607a4e4",
            "8e16588ef1b146389e8207f1be56e3ae",
            "d56b5a7a9944400a9c225b09440491c9",
            "caaddd77f886405a81187b36a158fad3",
            "6a92693575044fc4857f6f81624a6a3e",
            "1ac9b7b5e9eb4730adc5d4b5df236f45",
            "43863acc37fa456086ac673a5d8c0c95",
            "10b9194d44ed47a0b1866407d5c6392c",
            "4b303ffbcad446bdb1cf631562b897ef",
            "1eadf87ac3ea4528b5eddb3bc89d4530",
            "9c25a7f44ae1484c843d05961492c706",
            "6cd70cd4fb73457d87fe00554a91d369",
            "12b86924c94f4810b642b60451d9cba3",
            "f4f13cfe21944f2bb8e2933544a68ae7",
            "62de38b91975403dac4a0c89244679b2",
            "80c785ee651b492fb1c39cdfd313df84",
            "cc68c40a6c2b4d94874a254bdac8dd74",
            "90fefd7c836042008554771b559c9dc0",
            "43c4f279310440b7b493c219f5ef71db",
            "644200a3d5c94a63bca0a79ef37a03ba",
            "326fd38e0c3d45aab0f0197cff264e69",
            "cf74ac8350b8455f888da9118477a637",
            "dbd19941d9df46d5a00bfc105d34fded",
            "0c4e8fd2431b4190811a1fbe83797ae1",
            "2c2f6c1fa2c346b88edd26e71ab74365",
            "d57015bb41be4250a7bc6fcaee889906",
            "3ffa4a764a5a4e88975486f652923716",
            "e4345ccd4cac4d00a0655279caf6698e",
            "450c59ea91bb43aba289793851262255",
            "940bbd144b6e46ba90a0fb3a84a60ac4",
            "40d63f908fc1462283cfac03147bfa86",
            "fbc30f0016b14f4b9d040e2d221f4da9",
            "c2a6988b94874d01afcdeeaf9b5a14b2",
            "ec0404057c1243c39756398d873cd134",
            "98cdf18ca9f746c9ac9c94fba71ab057",
            "62738d77def046789931454ed096a8ff",
            "7a6e27010a78415f8c5f61ccceb89643",
            "e90f1a86aecc4f4d9badc973f280e398",
            "79c410ee9ac04e21aaf3e8f588059a9c",
            "ecba648bfabe4db6b0433a602cf53b0a",
            "c38c2dd95024410a81a6fb5b46422254",
            "3be5cbf02d164ca4818f6731db5bcb19",
            "de57bca585b2402cb8424014b42199c5",
            "474bc3b73ac845bb8c72a5352c92ee34",
            "fc83a8b3bcec48eeaf1f02ea80c0e799",
            "ecba8c6d322746dc9dbe80f2d80c4e6d",
            "c136fcaefe704e4b9bd040b5debc8cf8",
            "9614f19952554070b2585e54897c6b43",
            "bb4bd7eae66e4b1e880d10fa20e6ef62",
            "0b54ccddb207463387855e333d2676f8",
            "ac2ab42b33f24e5e9972e4039350f66b",
            "e1352b9917e34181998dad96644a7a62",
            "66b3f02e387e47d9956d518d1fe04391"
          ]
        },
        "outputId": "8a5f8203-0187-4848-9ff6-3f5768ca99b2"
      },
      "execution_count": 3,
      "outputs": [
        {
          "output_type": "stream",
          "name": "stdout",
          "text": [
            "\u001b[1mDownloading and preparing dataset fashion_mnist/3.0.1 (download: 29.45 MiB, generated: 36.42 MiB, total: 65.87 MiB) to /root/tensorflow_datasets/fashion_mnist/3.0.1...\u001b[0m\n"
          ]
        },
        {
          "output_type": "display_data",
          "data": {
            "application/vnd.jupyter.widget-view+json": {
              "model_id": "8b3156c6d7d248cdadb6eee63cb1f012",
              "version_minor": 0,
              "version_major": 2
            },
            "text/plain": [
              "Dl Completed...: 0 url [00:00, ? url/s]"
            ]
          },
          "metadata": {}
        },
        {
          "output_type": "display_data",
          "data": {
            "application/vnd.jupyter.widget-view+json": {
              "model_id": "e36a528c4ec04e36a7e19c33cd1bc906",
              "version_minor": 0,
              "version_major": 2
            },
            "text/plain": [
              "Dl Size...: 0 MiB [00:00, ? MiB/s]"
            ]
          },
          "metadata": {}
        },
        {
          "output_type": "display_data",
          "data": {
            "application/vnd.jupyter.widget-view+json": {
              "model_id": "4d68abdc64874872850218cd55a7b4d3",
              "version_minor": 0,
              "version_major": 2
            },
            "text/plain": [
              "Extraction completed...: 0 file [00:00, ? file/s]"
            ]
          },
          "metadata": {}
        },
        {
          "output_type": "stream",
          "name": "stdout",
          "text": [
            "\n",
            "\n",
            "\n"
          ]
        },
        {
          "output_type": "display_data",
          "data": {
            "application/vnd.jupyter.widget-view+json": {
              "model_id": "1eadf87ac3ea4528b5eddb3bc89d4530",
              "version_minor": 0,
              "version_major": 2
            },
            "text/plain": [
              "0 examples [00:00, ? examples/s]"
            ]
          },
          "metadata": {}
        },
        {
          "output_type": "stream",
          "name": "stdout",
          "text": [
            "Shuffling and writing examples to /root/tensorflow_datasets/fashion_mnist/3.0.1.incompleteR4JLFY/fashion_mnist-train.tfrecord\n"
          ]
        },
        {
          "output_type": "display_data",
          "data": {
            "application/vnd.jupyter.widget-view+json": {
              "model_id": "326fd38e0c3d45aab0f0197cff264e69",
              "version_minor": 0,
              "version_major": 2
            },
            "text/plain": [
              "  0%|          | 0/60000 [00:00<?, ? examples/s]"
            ]
          },
          "metadata": {}
        },
        {
          "output_type": "display_data",
          "data": {
            "application/vnd.jupyter.widget-view+json": {
              "model_id": "fbc30f0016b14f4b9d040e2d221f4da9",
              "version_minor": 0,
              "version_major": 2
            },
            "text/plain": [
              "0 examples [00:00, ? examples/s]"
            ]
          },
          "metadata": {}
        },
        {
          "output_type": "stream",
          "name": "stdout",
          "text": [
            "Shuffling and writing examples to /root/tensorflow_datasets/fashion_mnist/3.0.1.incompleteR4JLFY/fashion_mnist-test.tfrecord\n"
          ]
        },
        {
          "output_type": "display_data",
          "data": {
            "application/vnd.jupyter.widget-view+json": {
              "model_id": "de57bca585b2402cb8424014b42199c5",
              "version_minor": 0,
              "version_major": 2
            },
            "text/plain": [
              "  0%|          | 0/10000 [00:00<?, ? examples/s]"
            ]
          },
          "metadata": {}
        },
        {
          "output_type": "stream",
          "name": "stdout",
          "text": [
            "\u001b[1mDataset fashion_mnist downloaded and prepared to /root/tensorflow_datasets/fashion_mnist/3.0.1. Subsequent calls will reuse this data.\u001b[0m\n",
            "WARNING:tensorflow:From /usr/local/lib/python3.7/dist-packages/tensorflow_datasets/core/dataset_builder.py:598: get_single_element (from tensorflow.python.data.experimental.ops.get_single_element) is deprecated and will be removed in a future version.\n",
            "Instructions for updating:\n",
            "Use `tf.data.Dataset.get_single_element()`.\n"
          ]
        },
        {
          "output_type": "stream",
          "name": "stderr",
          "text": [
            "WARNING:tensorflow:From /usr/local/lib/python3.7/dist-packages/tensorflow_datasets/core/dataset_builder.py:598: get_single_element (from tensorflow.python.data.experimental.ops.get_single_element) is deprecated and will be removed in a future version.\n",
            "Instructions for updating:\n",
            "Use `tf.data.Dataset.get_single_element()`.\n"
          ]
        }
      ]
    },
    {
      "cell_type": "code",
      "source": [
        "img_train.shape"
      ],
      "metadata": {
        "colab": {
          "base_uri": "https://localhost:8080/"
        },
        "id": "s5gC9A0aw_Gr",
        "outputId": "25aed030-fbd4-457e-982c-e4c1c4ca38d5"
      },
      "execution_count": 4,
      "outputs": [
        {
          "output_type": "execute_result",
          "data": {
            "text/plain": [
              "(60000, 28, 28, 1)"
            ]
          },
          "metadata": {},
          "execution_count": 4
        }
      ]
    },
    {
      "cell_type": "markdown",
      "source": [
        "### Data reshaping"
      ],
      "metadata": {
        "id": "CYxpbrLVbLni"
      }
    },
    {
      "cell_type": "code",
      "source": [
        "img_train = img_train.reshape((60000, 28, 28))\n",
        "nsamples, nx, ny = img_train.shape\n",
        "img_train = img_train.reshape(nsamples, nx * ny)\n",
        "print(img_train.shape)\n",
        "print(img_train[0])"
      ],
      "metadata": {
        "colab": {
          "base_uri": "https://localhost:8080/"
        },
        "id": "oaP0zuIXaYEo",
        "outputId": "1bb5657f-4b72-4573-cbb5-493e9826b3b1"
      },
      "execution_count": 47,
      "outputs": [
        {
          "output_type": "stream",
          "name": "stdout",
          "text": [
            "(60000, 784)\n",
            "[  0   0   0   0   0   0   0   0   0  18  77 227 227 208 210 225 216  85  32   0   0   0   0   0   0   0   0   0   0   0   0   0   0   0   0  61 100  97  80  57 117 227 238 115  49  78 106 108  71   0   0   0   0   0   0   0   0   0   0   0   0   0  81 105  80  69  72  64  44  21  13  44  69  75  75  80 114  80   0   0   0   0   0   0   0   0   0   0   0  26  92  69  68  75  75  71  74  83  75  77  78  74  74  83  77 108  34   0   0   0   0   0   0   0   0   0   0  55  92  69  74  74  71  71  77  69  66  75  74  77  80  80  78  94  63   0   0   0   0   0   0   0   0   0   0  63  95  66  68  72  72  69  72  74  74  74  75  75  77  80  77 106  61   0   0   0   0   0   0   0   0   0   0  80 108  71  69  72  71  69  72  75  75  72  72  75  78  72  85 128  64   0   0   0   0   0   0   0   0   0   0  88 120  75  74  77  75  72  77  74  74  77  78  83  83  66 111 123  78   0   0   0   0   0   0   0   0   0   0  85 134  74  85  69  75  75  74  75  74  75  75  81  75  61 151 115  91  12   0   0   0   0   0   0   0   0  10  85 153  83  80  68  77  75  74  75  74  75  77  80  68  61 162 122  78   6   0   0   0   0   0   0   0   0  30  75 154  85  80  71  80  72  77  75  75  77  78  77  75  49 191 132  72  15   0   0   0   0   0   0   0   0  58  66 174 115  66  77  80  72  78  75  77  78  78  77  66  49 222 131  77  37   0   0   0   0   0   0   0   0  69  55 179 139  55  92  74  74  78  74  78  77  75  80  64  55 242 111  95  44   0   0   0   0   0   0   0   0  74  57 159 180  55  92  64  72  74  74  77  75  77  78  55  66 255  97 108  49   0   0   0   0   0   0   0   0  74  66 145 153  72  83  58  78  77  75  75  75  72  80  30 132 255  37 122  60   0   0   0   0   0   0   0   0  80  69 142 180 142  57  64  78  74  75  75  75  72  85  21 185 227  37 143  63   0   0   0   0   0   0   0   0  83  71 136 194 126  46  69  75  72  75  75  75  74  78  38 139 185  60 151  58   0   0   0   0   0   0   0   4  81  74 145 177  78  49  74  77  75  75  75  75  74  72  63  80 156 117 153  55   0   0   0   0   0   0   0  10  80  72 157 163  61  55  75  77  75  77  75  75  75  77  71  60  98 156 132  58   0   0   0   0   0   0   0  13  77  74 157 143  43  61  72  75  77  75  74  77  77  75  71  58  80 157 120  66   0   0   0   0   0   0   0  18  81  74 156 114  35  72  71  75  78  72  66  80  78  77  75  64  63 165 119  68   0   0   0   0   0   0   0  23  85  81 177  57  52  77  71  78  80  72  75  74  77  77  75  64  37 173  95  72   0   0   0   0   0   0   0  26  81  86 160  20  75  77  77  80  78  80  89  78  81  83  80  74  20 177  77  74   0   0   0   0   0   0   0  49  77  91 200   0  83  95  86  88  88  89  88  89  88  83  89  86   0 191  78  80  24   0   0   0   0   0   0  54  71 108 165   0  24  57  52  57  60  60  60  63  63  77  89  52   0 211  97  77  61   0   0   0   0   0   0  68  91 117 137   0   0   0   0   0   0   0   0   0   0   0   0   0  18 216  94  97  57   0   0   0   0   0   0  54 115 105 185   0   0   1   0   0   0   0   0   0   0   0   0   0   0 153  78 106  37   0   0   0   0   0   0  18  61  41 103   0   0   0   0   0   0   0   0   0   0   0   0   0   0 106  47  69  23   0   0   0]\n"
          ]
        }
      ]
    },
    {
      "cell_type": "code",
      "source": [
        "nsamples, nx, ny, _ = img_test.shape\n",
        "img_test = img_test.reshape(nsamples, nx * ny)\n",
        "print(img_test.shape)"
      ],
      "metadata": {
        "colab": {
          "base_uri": "https://localhost:8080/"
        },
        "id": "ESfObjXObJ14",
        "outputId": "e3eb6b39-1f61-4861-bf5a-ded0d022a46d"
      },
      "execution_count": 113,
      "outputs": [
        {
          "output_type": "stream",
          "name": "stdout",
          "text": [
            "(10000, 784)\n"
          ]
        }
      ]
    },
    {
      "cell_type": "code",
      "source": [
        "print(img_train[0])"
      ],
      "metadata": {
        "id": "7CtEx41m2t2z"
      },
      "execution_count": null,
      "outputs": []
    },
    {
      "cell_type": "code",
      "source": [
        "print(img_train[0].shape)\n",
        "print(type(img_train))\n",
        "print(img_train[0].reshape((28,28)).shape)\n",
        "#np.array_repr(img_train[0].reshape((28,28))).replace('\\n', '')\n",
        "#print(img_train[0].reshape((28,28)))\n",
        "#pd.DataFrame(img_train[0].reshape((28,28)))\n"
      ],
      "metadata": {
        "colab": {
          "base_uri": "https://localhost:8080/"
        },
        "id": "L5TY5idPMRMd",
        "outputId": "d5fcb556-e548-4f06-ce7e-9c33b1ff380f"
      },
      "execution_count": 82,
      "outputs": [
        {
          "output_type": "stream",
          "name": "stdout",
          "text": [
            "(28, 28, 1)\n",
            "<class 'numpy.ndarray'>\n",
            "(28, 28)\n"
          ]
        }
      ]
    },
    {
      "cell_type": "code",
      "source": [
        "print(label_train[0])"
      ],
      "metadata": {
        "colab": {
          "base_uri": "https://localhost:8080/"
        },
        "id": "n4rLvkOHaAmC",
        "outputId": "7fba4448-9cc2-458d-bb94-a59ab99471ef"
      },
      "execution_count": 77,
      "outputs": [
        {
          "output_type": "stream",
          "name": "stdout",
          "text": [
            "2\n"
          ]
        }
      ]
    },
    {
      "cell_type": "markdown",
      "source": [
        "## Data Exploration"
      ],
      "metadata": {
        "id": "Z8zjhQvpYEz2"
      }
    },
    {
      "cell_type": "markdown",
      "source": [
        "### Trying out SVD on shirt"
      ],
      "metadata": {
        "id": "k8nOJqlqXzAl"
      }
    },
    {
      "cell_type": "code",
      "source": [
        "im = img_train[0].reshape((28,28))\n",
        "U,S,V = np.linalg.svd(im, full_matrices=False)\n",
        "S = np.diag(S)\n",
        "print(im.shape)\n",
        "k=3\n",
        "print(U[:,:k].shape)\n",
        "compressed_img = U[:,:k] @ S[0:k,:k] @ V[:k,:]\n",
        "print(compressed_img.shape)\n",
        "plt.imshow(compressed_img, cmap='gray')"
      ],
      "metadata": {
        "colab": {
          "base_uri": "https://localhost:8080/",
          "height": 334
        },
        "id": "KA6Ml5nFxIzU",
        "outputId": "6cfb00ef-cffa-42c8-9721-118cc603141e"
      },
      "execution_count": 58,
      "outputs": [
        {
          "output_type": "stream",
          "name": "stdout",
          "text": [
            "(28, 28)\n",
            "(28, 3)\n",
            "(28, 28)\n"
          ]
        },
        {
          "output_type": "execute_result",
          "data": {
            "text/plain": [
              "<matplotlib.image.AxesImage at 0x7fa0497e5590>"
            ]
          },
          "metadata": {},
          "execution_count": 58
        },
        {
          "output_type": "display_data",
          "data": {
            "image/png": "[encoded data removed]",
            "text/plain": [
              "<Figure size 432x288 with 1 Axes>"
            ]
          },
          "metadata": {
            "needs_background": "light"
          }
        }
      ]
    },
    {
      "cell_type": "markdown",
      "source": [
        "### Trying out PCA on shirt"
      ],
      "metadata": {
        "id": "SZe0a0huX3mq"
      }
    },
    {
      "cell_type": "code",
      "source": [
        "img = img_train[0].reshape((28,28))\n",
        "std = StandardScaler()\n",
        "transformed_img = std.fit_transform(img)\n",
        "\n",
        "pca = PCA(n_components=10)\n",
        "pca_img = pca.fit_transform(transformed_img)\n",
        "print(pca_img.shape)\n",
        "print(pca_img)\n",
        "plt.imshow(pca_img, cmap='gray')"
      ],
      "metadata": {
        "colab": {
          "base_uri": "https://localhost:8080/",
          "height": 786
        },
        "id": "YcIeuDF0O3t3",
        "outputId": "53eba880-b445-4861-846e-fdb843479698"
      },
      "execution_count": 75,
      "outputs": [
        {
          "output_type": "stream",
          "name": "stdout",
          "text": [
            "(28, 10)\n",
            "[[-6.814e+00  7.268e+00  1.829e+00  3.765e+00 -1.061e+00 -5.407e-01  1.160e-01 -2.759e-01  2.062e-02 -6.080e-02]\n",
            " [-5.372e+00  2.525e+00 -1.661e+00 -1.104e+00  3.837e+00  1.494e+00 -9.290e-01  4.407e-01 -2.285e-02 -1.820e-01]\n",
            " [-1.096e+00  6.134e-01 -3.089e+00 -1.683e+00 -6.677e-01  3.276e-02  1.881e+00 -7.871e-01  8.229e-01 -4.880e-01]\n",
            " [-1.808e+00  1.054e+00 -1.377e+00 -1.340e+00 -9.435e-02 -2.296e-02  6.758e-01 -1.088e-01  2.139e-01  3.111e-02]\n",
            " [-1.497e+00  5.170e-01 -1.123e+00 -1.313e+00 -2.155e-01 -6.162e-01  1.774e-01  2.378e-01  1.454e-01  3.978e-01]\n",
            " [-1.335e+00  5.777e-01 -9.711e-01 -1.340e+00 -2.510e-01 -6.238e-01 -2.834e-02  3.241e-01  1.594e-02  4.245e-01]\n",
            " [-1.053e+00  3.266e-01 -6.213e-01 -1.501e+00 -4.891e-01 -7.046e-01 -4.214e-01  4.455e-01 -1.576e-01  3.480e-01]\n",
            " [-1.306e+00 -1.350e-01 -2.539e-01 -1.500e+00 -7.148e-01 -7.852e-01 -6.894e-01  3.167e-01 -1.405e-01  3.342e-01]\n",
            " [-1.125e+00 -4.827e-01 -3.524e-01 -1.013e+00 -7.359e-01 -8.332e-01 -8.368e-01  1.482e-01 -3.348e-01 -5.149e-02]\n",
            " [-1.030e+00 -5.523e-01 -2.991e-01 -9.013e-01 -9.551e-01 -6.564e-01 -8.081e-01 -1.184e-01 -4.760e-01 -2.353e-01]\n",
            " [-9.978e-01 -6.353e-01 -1.311e-01 -8.354e-01 -9.969e-01 -4.757e-04 -6.925e-01 -2.906e-01 -4.172e-01 -6.180e-01]\n",
            " [-7.209e-01 -1.147e+00  1.387e-01 -7.482e-02 -1.026e+00  8.470e-01 -4.805e-01 -6.322e-01 -3.033e-01 -5.668e-01]\n",
            " [-7.867e-01 -1.614e+00  6.769e-02  3.574e-01 -9.102e-01  1.413e+00 -4.180e-01 -8.795e-01  3.708e-02 -4.306e-02]\n",
            " [-6.946e-01 -1.950e+00 -3.253e-01  1.010e+00 -6.931e-01  1.363e+00 -5.046e-01 -7.164e-01  4.144e-01  2.494e-01]\n",
            " [-8.251e-01 -2.352e+00 -9.105e-01  2.004e+00  5.151e-01  1.042e-01 -2.107e-01 -1.055e+00 -4.229e-02  9.759e-01]\n",
            " [-1.116e+00 -3.517e+00 -1.184e+00  2.488e+00  1.685e+00 -1.476e+00  4.510e-01 -4.226e-01 -2.139e-01 -4.120e-02]\n",
            " [-7.605e-01 -2.930e+00 -7.700e-01  2.201e+00  9.911e-01 -1.011e+00  2.556e-01  5.035e-01  1.427e-01 -4.433e-01]\n",
            " [-1.691e-01 -1.979e+00  3.042e-01  1.350e+00 -2.125e-01  4.676e-02 -1.363e-01  1.065e+00  4.854e-01 -3.709e-01]\n",
            " [ 1.263e-01 -1.332e+00  1.015e+00  6.300e-01 -4.869e-01  4.993e-01  2.005e-01  1.147e+00  4.638e-01 -3.367e-01]\n",
            " [ 3.475e-01 -8.687e-01  1.222e+00  4.762e-01 -5.120e-01  7.112e-01  2.958e-01  9.447e-01  3.464e-01  9.817e-02]\n",
            " [ 4.673e-01 -7.118e-01  1.567e+00  1.359e-01 -3.946e-01  7.678e-01  5.382e-01  7.262e-01  2.809e-01  5.225e-01]\n",
            " [ 6.566e-01 -4.115e-01  1.989e+00 -4.146e-01 -1.656e-02  5.579e-01  7.469e-01  2.686e-01 -6.186e-01  2.985e-01]\n",
            " [ 2.399e-01 -1.437e-01  2.185e+00 -8.925e-01  5.944e-01  8.852e-02  8.971e-01  1.871e-01 -1.004e+00  5.587e-03]\n",
            " [ 5.201e-01 -1.550e-01  3.600e+00 -1.499e+00  1.317e+00 -2.872e-01  8.073e-01 -8.930e-01 -5.062e-01 -2.628e-01]\n",
            " [ 3.337e+00  1.062e+00  3.077e+00 -1.401e+00  9.548e-01 -6.434e-01 -4.721e-01 -6.814e-01  1.526e+00  1.337e-01]\n",
            " [ 8.608e+00  2.149e+00 -9.835e-02  5.450e-01  4.807e-01 -5.604e-01 -8.695e-01 -1.007e-01  4.511e-01 -2.411e-01]\n",
            " [ 8.165e+00  1.775e+00 -5.143e-01  1.077e+00  2.763e-01  2.668e-01 -1.004e-01 -1.157e-01 -7.661e-01 -6.383e-02]\n",
            " [ 6.038e+00  3.048e+00 -3.316e+00  7.731e-01 -2.185e-01  5.690e-01  5.552e-01  3.222e-01 -3.628e-01  1.859e-01]]\n"
          ]
        },
        {
          "output_type": "execute_result",
          "data": {
            "text/plain": [
              "<matplotlib.image.AxesImage at 0x7fa047de5bd0>"
            ]
          },
          "metadata": {},
          "execution_count": 75
        },
        {
          "output_type": "display_data",
          "data": {
            "image/png": "[encoded data removed]",
            "text/plain": [
              "<Figure size 432x288 with 1 Axes>"
            ]
          },
          "metadata": {
            "needs_background": "light"
          }
        }
      ]
    },
    {
      "cell_type": "code",
      "source": [
        "plt.imshow(img_train[0].reshape((28,28)), cmap='gray')"
      ],
      "metadata": {
        "colab": {
          "base_uri": "https://localhost:8080/",
          "height": 282
        },
        "id": "GwabTxlccJFe",
        "outputId": "cbcb7e98-71b1-4e80-e4c6-8d8cd19aea41"
      },
      "execution_count": 17,
      "outputs": [
        {
          "output_type": "execute_result",
          "data": {
            "text/plain": [
              "<matplotlib.image.AxesImage at 0x7fa0499d1ad0>"
            ]
          },
          "metadata": {},
          "execution_count": 17
        },
        {
          "output_type": "display_data",
          "data": {
            "image/png": "[encoded data removed]",
            "text/plain": [
              "<Figure size 432x288 with 1 Axes>"
            ]
          },
          "metadata": {
            "needs_background": "light"
          }
        }
      ]
    },
    {
      "cell_type": "markdown",
      "source": [
        "### Trying out SVD on Pants"
      ],
      "metadata": {
        "id": "HYuken_dX9ZD"
      }
    },
    {
      "cell_type": "code",
      "source": [
        "im = img_train[1].reshape((28,28))\n",
        "U,S,V = np.linalg.svd(im, full_matrices=False)\n",
        "S = np.diag(S)\n",
        "print(im.shape)\n",
        "k=1\n",
        "print(U[:,:k].shape)\n",
        "compressed_img = U[:,:k] @ S[0:k,:k] @ V[:k,:]\n",
        "print(compressed_img.shape)\n",
        "plt.imshow(compressed_img, cmap='gray')"
      ],
      "metadata": {
        "colab": {
          "base_uri": "https://localhost:8080/",
          "height": 334
        },
        "id": "vD_TNczlNCqC",
        "outputId": "c55c6651-dce2-46ab-f46f-a496e6a8187a"
      },
      "execution_count": 55,
      "outputs": [
        {
          "output_type": "stream",
          "name": "stdout",
          "text": [
            "(28, 28)\n",
            "(28, 1)\n",
            "(28, 28)\n"
          ]
        },
        {
          "output_type": "execute_result",
          "data": {
            "text/plain": [
              "<matplotlib.image.AxesImage at 0x7fa04d30fb10>"
            ]
          },
          "metadata": {},
          "execution_count": 55
        },
        {
          "output_type": "display_data",
          "data": {
            "image/png": "[encoded data removed]",
            "text/plain": [
              "<Figure size 432x288 with 1 Axes>"
            ]
          },
          "metadata": {
            "needs_background": "light"
          }
        }
      ]
    },
    {
      "cell_type": "code",
      "source": [
        "plt.imshow(img_train[1].reshape((28,28)), cmap='gray')"
      ],
      "metadata": {
        "colab": {
          "base_uri": "https://localhost:8080/",
          "height": 282
        },
        "id": "X84h9bzDKG5e",
        "outputId": "14a1d228-a241-43ae-9c58-17b0ac41484d"
      },
      "execution_count": 5,
      "outputs": [
        {
          "output_type": "execute_result",
          "data": {
            "text/plain": [
              "<matplotlib.image.AxesImage at 0x7f6214301d50>"
            ]
          },
          "metadata": {},
          "execution_count": 5
        },
        {
          "output_type": "display_data",
          "data": {
            "image/png": "[encoded data removed]",
            "text/plain": [
              "<Figure size 432x288 with 1 Axes>"
            ]
          },
          "metadata": {
            "needs_background": "light"
          }
        }
      ]
    },
    {
      "cell_type": "markdown",
      "source": [
        "### Trying out PCA on Pants"
      ],
      "metadata": {
        "id": "WMa7l_7lYAYV"
      }
    },
    {
      "cell_type": "code",
      "source": [
        "im = img_train[2].reshape((28,28))\n",
        "U,S,V = np.linalg.svd(im, full_matrices=False)\n",
        "S = np.diag(S)\n",
        "print(im.shape)\n",
        "k=1\n",
        "print(U[:,:k].shape)\n",
        "compressed_img = U[:,:k] @ S[0:k,:k] @ V[:k,:]\n",
        "print(compressed_img.shape)\n",
        "plt.imshow(compressed_img, cmap='gray')"
      ],
      "metadata": {
        "colab": {
          "base_uri": "https://localhost:8080/",
          "height": 334
        },
        "id": "Q_R1uZHdN2GE",
        "outputId": "bcf91a36-381e-4fce-87f9-3ea202af7625"
      },
      "execution_count": 56,
      "outputs": [
        {
          "output_type": "stream",
          "name": "stdout",
          "text": [
            "(28, 28)\n",
            "(28, 1)\n",
            "(28, 28)\n"
          ]
        },
        {
          "output_type": "execute_result",
          "data": {
            "text/plain": [
              "<matplotlib.image.AxesImage at 0x7fa04990ded0>"
            ]
          },
          "metadata": {},
          "execution_count": 56
        },
        {
          "output_type": "display_data",
          "data": {
            "image/png": "[encoded data removed]",
            "text/plain": [
              "<Figure size 432x288 with 1 Axes>"
            ]
          },
          "metadata": {
            "needs_background": "light"
          }
        }
      ]
    },
    {
      "cell_type": "markdown",
      "source": [
        ""
      ],
      "metadata": {
        "id": "XoQZYKFDTtsU"
      }
    },
    {
      "cell_type": "markdown",
      "source": [
        "### Trying out image filtering"
      ],
      "metadata": {
        "id": "TVpjiOafYJ7V"
      }
    },
    {
      "cell_type": "code",
      "source": [
        "kernel = np.ones((3, 3), np.float32)\n",
        "shirt = img_train[0].reshape((28,28))\n",
        "conv_shirt = cv2.filter2D(shirt, -1, kernel)\n",
        "print(f\"shirt org dim: {shirt.shape}\")\n",
        "print(f\"conv shirt dim: {conv_shirt.shape}\")\n",
        "fig, ax = plt.subplots(1,2,figsize=(10,6))\n",
        "ax[0].imshow(shirt, cmap=\"gray\")\n",
        "ax[1].imshow(conv_shirt, cmap=\"gray\")"
      ],
      "metadata": {
        "colab": {
          "base_uri": "https://localhost:8080/",
          "height": 354
        },
        "id": "2CLW9_q4YQF6",
        "outputId": "7ba9a4ea-73b5-4314-e7f5-8e027f336522"
      },
      "execution_count": 17,
      "outputs": [
        {
          "output_type": "stream",
          "name": "stdout",
          "text": [
            "shirt org dim: (28, 28)\n",
            "conv shirt dim: (28, 28)\n"
          ]
        },
        {
          "output_type": "execute_result",
          "data": {
            "text/plain": [
              "<matplotlib.image.AxesImage at 0x7f5e4a61e890>"
            ]
          },
          "metadata": {},
          "execution_count": 17
        },
        {
          "output_type": "display_data",
          "data": {
            "image/png": "[encoded data removed]",
            "text/plain": [
              "<Figure size 720x432 with 2 Axes>"
            ]
          },
          "metadata": {
            "needs_background": "light"
          }
        }
      ]
    },
    {
      "cell_type": "markdown",
      "source": [
        "### SVD to filtered shirt"
      ],
      "metadata": {
        "id": "_FTFgRKYZW85"
      }
    },
    {
      "cell_type": "code",
      "source": [
        "im = conv_shirt\n",
        "U,S,V = np.linalg.svd(im, full_matrices=False)\n",
        "S = np.diag(S)\n",
        "print(im.shape)\n",
        "k=3\n",
        "print(U[:,:k].shape)\n",
        "compressed_img = U[:,:k] @ S[0:k,:k] @ V[:k,:]\n",
        "print(compressed_img.shape)\n",
        "plt.imshow(compressed_img, cmap='gray')"
      ],
      "metadata": {
        "colab": {
          "base_uri": "https://localhost:8080/",
          "height": 334
        },
        "id": "9_JiXGO6ZcsH",
        "outputId": "db4b19a5-81da-4d7c-99dd-d3fd6390d9ab"
      },
      "execution_count": 19,
      "outputs": [
        {
          "output_type": "stream",
          "name": "stdout",
          "text": [
            "(28, 28)\n",
            "(28, 3)\n",
            "(28, 28)\n"
          ]
        },
        {
          "output_type": "execute_result",
          "data": {
            "text/plain": [
              "<matplotlib.image.AxesImage at 0x7f5e4a580410>"
            ]
          },
          "metadata": {},
          "execution_count": 19
        },
        {
          "output_type": "display_data",
          "data": {
            "image/png": "[encoded data removed]",
            "text/plain": [
              "<Figure size 432x288 with 1 Axes>"
            ]
          },
          "metadata": {
            "needs_background": "light"
          }
        }
      ]
    },
    {
      "cell_type": "markdown",
      "source": [
        "### Trying out image transform to a smaller size"
      ],
      "metadata": {
        "id": "ocO0ufM4aaKY"
      }
    },
    {
      "cell_type": "code",
      "source": [
        "shirt = img_train[0].reshape((28,28))\n",
        "resized_shirt = resize(shirt, (10,10))\n",
        "print(f\"shirt org dim: {shirt.shape}\")\n",
        "print(f\"resized_shirt dim: {resized_shirt.shape}\")\n",
        "fig, ax = plt.subplots(1,2,figsize=(10,6))\n",
        "ax[0].imshow(shirt, cmap=\"gray\")\n",
        "ax[1].imshow(resized_shirt, cmap=\"gray\")"
      ],
      "metadata": {
        "colab": {
          "base_uri": "https://localhost:8080/",
          "height": 354
        },
        "id": "gPfBvaVcdqCJ",
        "outputId": "8491b0cb-538a-4b8b-857b-2a0972148973"
      },
      "execution_count": 33,
      "outputs": [
        {
          "output_type": "stream",
          "name": "stdout",
          "text": [
            "shirt org dim: (28, 28)\n",
            "resized_shirt dim: (10, 10)\n"
          ]
        },
        {
          "output_type": "execute_result",
          "data": {
            "text/plain": [
              "<matplotlib.image.AxesImage at 0x7f5e3ea854d0>"
            ]
          },
          "metadata": {},
          "execution_count": 33
        },
        {
          "output_type": "display_data",
          "data": {
            "image/png": "[encoded data removed]",
            "text/plain": [
              "<Figure size 720x432 with 2 Axes>"
            ]
          },
          "metadata": {
            "needs_background": "light"
          }
        }
      ]
    },
    {
      "cell_type": "code",
      "source": [
        "shirt = img_train[0].reshape((28,28))\n",
        "resized_shirt = resize(shirt, (7,7))\n",
        "print(f\"shirt org dim: {shirt.shape}\")\n",
        "print(f\"resized_shirt dim: {resized_shirt.shape}\")\n",
        "fig, ax = plt.subplots(1,2,figsize=(10,6))\n",
        "ax[0].imshow(shirt, cmap=\"gray\")\n",
        "ax[1].imshow(resized_shirt, cmap=\"gray\")"
      ],
      "metadata": {
        "colab": {
          "base_uri": "https://localhost:8080/",
          "height": 354
        },
        "id": "1wC6Y1Dsduvz",
        "outputId": "8b0abaee-8388-42ff-e8a3-8a8f861ad0af"
      },
      "execution_count": 34,
      "outputs": [
        {
          "output_type": "stream",
          "name": "stdout",
          "text": [
            "shirt org dim: (28, 28)\n",
            "resized_shirt dim: (7, 7)\n"
          ]
        },
        {
          "output_type": "execute_result",
          "data": {
            "text/plain": [
              "<matplotlib.image.AxesImage at 0x7f5e3e954390>"
            ]
          },
          "metadata": {},
          "execution_count": 34
        },
        {
          "output_type": "display_data",
          "data": {
            "image/png": "[encoded data removed]",
            "text/plain": [
              "<Figure size 720x432 with 2 Axes>"
            ]
          },
          "metadata": {
            "needs_background": "light"
          }
        }
      ]
    },
    {
      "cell_type": "code",
      "source": [
        "shirt = img_train[0].reshape((28,28))\n",
        "resized_shirt = resize(shirt, (5,5))\n",
        "print(f\"shirt org dim: {shirt.shape}\")\n",
        "print(f\"resized_shirt dim: {resized_shirt.shape}\")\n",
        "fig, ax = plt.subplots(1,2,figsize=(10,6))\n",
        "ax[0].imshow(shirt, cmap=\"gray\")\n",
        "ax[1].imshow(resized_shirt, cmap=\"gray\")"
      ],
      "metadata": {
        "colab": {
          "base_uri": "https://localhost:8080/",
          "height": 354
        },
        "id": "6IcXYV_laelx",
        "outputId": "5b9c3f6d-2df0-4c69-b3ff-9db59040c8af"
      },
      "execution_count": 31,
      "outputs": [
        {
          "output_type": "stream",
          "name": "stdout",
          "text": [
            "shirt org dim: (28, 28)\n",
            "resized_shirt dim: (5, 5)\n"
          ]
        },
        {
          "output_type": "execute_result",
          "data": {
            "text/plain": [
              "<matplotlib.image.AxesImage at 0x7f5e3ed3aa50>"
            ]
          },
          "metadata": {},
          "execution_count": 31
        },
        {
          "output_type": "display_data",
          "data": {
            "image/png": "[encoded data removed]",
            "text/plain": [
              "<Figure size 720x432 with 2 Axes>"
            ]
          },
          "metadata": {
            "needs_background": "light"
          }
        }
      ]
    },
    {
      "cell_type": "markdown",
      "source": [
        "#### Further reduction in size"
      ],
      "metadata": {
        "id": "e7q4y_O8dawS"
      }
    },
    {
      "cell_type": "code",
      "source": [
        "shirt = img_train[0].reshape((28,28))\n",
        "resized_shirt = resize(shirt, (2,2))\n",
        "print(f\"shirt org dim: {shirt.shape}\")\n",
        "print(f\"resized_shirt dim: {resized_shirt.shape}\")\n",
        "fig, ax = plt.subplots(1,2,figsize=(10,6))\n",
        "ax[0].imshow(shirt, cmap=\"gray\")\n",
        "ax[1].imshow(resized_shirt, cmap=\"gray\")"
      ],
      "metadata": {
        "colab": {
          "base_uri": "https://localhost:8080/",
          "height": 358
        },
        "id": "Kv79o9g2ddIW",
        "outputId": "1031d4b4-9a5f-4f64-e5ab-1a38c95a9ca3"
      },
      "execution_count": 32,
      "outputs": [
        {
          "output_type": "stream",
          "name": "stdout",
          "text": [
            "shirt org dim: (28, 28)\n",
            "resized_shirt dim: (2, 2)\n"
          ]
        },
        {
          "output_type": "execute_result",
          "data": {
            "text/plain": [
              "<matplotlib.image.AxesImage at 0x7f5e3eb22a10>"
            ]
          },
          "metadata": {},
          "execution_count": 32
        },
        {
          "output_type": "display_data",
          "data": {
            "image/png": "[encoded data removed]",
            "text/plain": [
              "<Figure size 720x432 with 2 Axes>"
            ]
          },
          "metadata": {
            "needs_background": "light"
          }
        }
      ]
    },
    {
      "cell_type": "code",
      "source": [
        "pants = img_train[1].reshape((28,28))\n",
        "resized_pants = resize(pants, (15,15))\n",
        "print(resized_pants)\n",
        "print(f\"shirt org dim: {shirt.shape}\")\n",
        "print(f\"resized_shirt dim: {resized_shirt.shape}\")\n",
        "fig, ax = plt.subplots(1,2,figsize=(10,6))\n",
        "ax[0].imshow(pants, cmap=\"gray\")\n",
        "ax[1].imshow(resized_pants, cmap=\"gray\")"
      ],
      "metadata": {
        "colab": {
          "base_uri": "https://localhost:8080/",
          "height": 614
        },
        "id": "NDSpOr8qeQEC",
        "outputId": "3f096a4d-107f-4dd6-e4db-423100af80ec"
      },
      "execution_count": 40,
      "outputs": [
        {
          "output_type": "stream",
          "name": "stdout",
          "text": [
            "[[0.000e+00 0.000e+00 0.000e+00 0.000e+00 0.000e+00 4.231e-01 5.158e-01 4.752e-01 4.783e-01 4.814e-01 7.647e-03 0.000e+00 0.000e+00 0.000e+00 0.000e+00]\n",
            " [0.000e+00 0.000e+00 0.000e+00 0.000e+00 2.541e-02 8.444e-01 9.401e-01 9.543e-01 9.483e-01 9.180e-01 4.447e-02 0.000e+00 0.000e+00 0.000e+00 0.000e+00]\n",
            " [0.000e+00 0.000e+00 0.000e+00 0.000e+00 5.059e-02 9.403e-01 9.288e-01 9.278e-01 9.261e-01 9.290e-01 1.026e-01 8.715e-05 0.000e+00 0.000e+00 0.000e+00]\n",
            " [0.000e+00 0.000e+00 0.000e+00 1.351e-04 1.079e-01 9.300e-01 9.294e-01 9.263e-01 9.323e-01 9.228e-01 3.714e-01 7.887e-04 0.000e+00 0.000e+00 0.000e+00]\n",
            " [0.000e+00 0.000e+00 0.000e+00 2.614e-04 1.561e-01 9.219e-01 9.369e-01 8.749e-01 9.507e-01 9.162e-01 4.905e-01 1.033e-03 0.000e+00 0.000e+00 0.000e+00]\n",
            " [0.000e+00 0.000e+00 0.000e+00 0.000e+00 6.200e-02 9.342e-01 9.453e-01 7.899e-01 9.507e-01 9.150e-01 3.812e-01 8.148e-04 0.000e+00 0.000e+00 0.000e+00]\n",
            " [0.000e+00 0.000e+00 0.000e+00 0.000e+00 4.624e-02 9.244e-01 9.535e-01 6.493e-01 9.361e-01 9.243e-01 1.056e-01 9.586e-05 0.000e+00 0.000e+00 0.000e+00]\n",
            " [0.000e+00 0.000e+00 0.000e+00 0.000e+00 1.941e-02 8.114e-01 9.531e-01 6.157e-01 9.325e-01 9.088e-01 4.412e-02 0.000e+00 0.000e+00 0.000e+00 0.000e+00]\n",
            " [0.000e+00 0.000e+00 0.000e+00 0.000e+00 0.000e+00 6.894e-01 9.512e-01 6.144e-01 9.322e-01 8.311e-01 2.306e-02 0.000e+00 0.000e+00 0.000e+00 0.000e+00]\n",
            " [0.000e+00 0.000e+00 0.000e+00 0.000e+00 8.235e-04 4.947e-01 9.462e-01 5.903e-01 9.324e-01 7.505e-01 7.882e-03 0.000e+00 0.000e+00 0.000e+00 0.000e+00]\n",
            " [0.000e+00 0.000e+00 0.000e+00 0.000e+00 0.000e+00 4.554e-01 9.565e-01 3.824e-01 9.249e-01 7.721e-01 1.165e-02 0.000e+00 0.000e+00 0.000e+00 0.000e+00]\n",
            " [0.000e+00 0.000e+00 0.000e+00 0.000e+00 0.000e+00 5.941e-01 9.490e-01 2.822e-01 9.013e-01 8.556e-01 2.800e-02 0.000e+00 0.000e+00 0.000e+00 0.000e+00]\n",
            " [0.000e+00 0.000e+00 0.000e+00 0.000e+00 0.000e+00 6.164e-01 9.501e-01 3.101e-01 8.050e-01 8.533e-01 2.529e-02 0.000e+00 0.000e+00 0.000e+00 0.000e+00]\n",
            " [0.000e+00 0.000e+00 0.000e+00 0.000e+00 2.471e-03 4.200e-01 9.282e-01 1.569e-01 5.916e-01 7.905e-01 1.624e-02 0.000e+00 0.000e+00 0.000e+00 0.000e+00]\n",
            " [0.000e+00 0.000e+00 0.000e+00 0.000e+00 1.529e-03 1.322e-01 7.233e-01 4.987e-02 3.661e-01 6.007e-01 3.059e-03 0.000e+00 0.000e+00 0.000e+00 0.000e+00]]\n",
            "shirt org dim: (28, 28)\n",
            "resized_shirt dim: (7, 7)\n"
          ]
        },
        {
          "output_type": "execute_result",
          "data": {
            "text/plain": [
              "<matplotlib.image.AxesImage at 0x7f5e3e461050>"
            ]
          },
          "metadata": {},
          "execution_count": 40
        },
        {
          "output_type": "display_data",
          "data": {
            "image/png": "[encoded data removed]",
            "text/plain": [
              "<Figure size 720x432 with 2 Axes>"
            ]
          },
          "metadata": {
            "needs_background": "light"
          }
        }
      ]
    },
    {
      "cell_type": "code",
      "source": [
        "sc = StandardScaler()\n",
        "pants = img_train[1].reshape((28,28))\n",
        "print(pants)\n",
        "norm_pants = pants / 255#sc.fit_transform(pants)\n",
        "print(norm_pants)\n",
        "resized_pants = resize(norm_pants, (11,11))\n",
        "print(resized_pants)\n",
        "print(f\"shirt org dim: {shirt.shape}\")\n",
        "print(f\"resized_shirt dim: {resized_shirt.shape}\")\n",
        "fig, ax = plt.subplots(1,2,figsize=(10,6))\n",
        "ax[0].imshow(pants, cmap=\"gray\")\n",
        "ax[1].imshow(resized_pants, cmap=\"gray\")"
      ],
      "metadata": {
        "colab": {
          "base_uri": "https://localhost:8080/",
          "height": 1000
        },
        "id": "GcSaDoAUhKEK",
        "outputId": "9ca4db13-41cd-4fc3-b000-8ba3230e5978"
      },
      "execution_count": 50,
      "outputs": [
        {
          "output_type": "stream",
          "name": "stdout",
          "text": [
            "[[  0   0   0   0   0   0   0   0   0   0  59  77  58  56  58  57  65  89   2   0   0   0   0   0   0   0   0   0]\n",
            " [  0   0   0   0   0   0   0   0   0   0 245 213 199 192 188 189 184 226  90   0   0   0   0   0   0   0   0   0]\n",
            " [  0   0   0   0   0   0   0   0   0 101 255 242 247 255 255 255 245 252 208   0   0   0   0   0   0   0   0   0]\n",
            " [  0   0   0   0   0   0   0   0   0 178 252 233 235 233 231 232 234 241 245   0   0   0   0   0   0   0   0   0]\n",
            " [  0   0   0   0   0   0   0   0   0 246 246 235 240 238 237 238 237 236 255   2   0   0   0   0   0   0   0   0]\n",
            " [  0   0   0   0   0   0   0   0   0 255 239 237 239 239 238 237 238 234 255  70   0   0   0   0   0   0   0   0]\n",
            " [  0   0   0   0   0   0   0   0  18 255 237 237 238 236 237 237 241 232 255 102   0   0   0   0   0   0   0   0]\n",
            " [  0   0   0   0   0   0   0   0  35 255 232 238 237 243 248 238 238 232 255 121   0   0   0   0   0   0   0   0]\n",
            " [  0   0   0   0   0   0   0   0  35 255 233 237 244 226 217 252 236 229 255 145   0   0   0   0   0   0   0   0]\n",
            " [  0   0   0   0   0   0   0   0  13 255 238 235 250 205 169 255 234 228 255 131   0   0   0   0   0   0   0   0]\n",
            " [  0   0   0   0   0   0   0   0   0 255 239 234 248 225 184 255 233 231 255 100   0   0   0   0   0   0   0   0]\n",
            " [  0   0   0   0   0   0   0   0   0 252 244 231 254 209 141 255 229 233 255  42   0   0   0   0   0   0   0   0]\n",
            " [  0   0   0   0   0   0   0   0   0 205 250 233 255 199 101 255 230 236 255   0   0   0   0   0   0   0   0   0]\n",
            " [  0   0   0   0   0   0   0   0   0 134 255 232 255 210  95 255 227 242 238   0   0   0   0   0   0   0   0   0]\n",
            " [  0   0   0   0   0   0   0   0   0  52 250 233 251 221  82 255 231 248 195   0   0   0   0   0   0   0   0   0]\n",
            " [  0   0   0   0   0   0   0   0   0   0 255 238 249 224  79 255 231 250 147   0   0   0   0   0   0   0   0   0]\n",
            " [  0   0   0   0   0   0   0   0   0   0 219 247 244 223  81 255 230 251  75   0   0   0   0   0   0   0   0   0]\n",
            " [  0   0   0   0   0   0   0   0   0   0 171 254 238 228  74 255 232 246  45   0   0   0   0   0   0   0   0   0]\n",
            " [  0   0   0   0   0   0   0   0   3   0 149 254 239 233  33 255 231 246  54   0   0   0   0   0   0   0   0   0]\n",
            " [  0   0   0   0   0   0   0   0   2   0 150 254 248 181   0 255 237 248  57   0   0   0   0   0   0   0   0   0]\n",
            " [  0   0   0   0   0   0   0   0   1   0 169 250 251 116   0 231 247 252 101   0   0   0   0   0   0   0   0   0]\n",
            " [  0   0   0   0   0   0   0   0   0   0 207 245 251 123   0 235 249 251 143   0   0   0   0   0   0   0   0   0]\n",
            " [  0   0   0   0   0   0   0   0   0   0 229 244 253 140   0 237 249 250 148   0   0   0   0   0   0   0   0   0]\n",
            " [  0   0   0   0   0   0   0   0   0   0 212 244 251 144   0 182 252 253 131   0   0   0   0   0   0   0   0   0]\n",
            " [  0   0   0   0   0   0   0   0   1   0 173 251 247 101   0 120 253 251 108   0   0   0   0   0   0   0   0   0]\n",
            " [  0   0   0   0   0   0   0   0   3   0 127 251 243  47   0  83 253 247  66   0   0   0   0   0   0   0   0   0]\n",
            " [  0   0   0   0   0   0   0   0   3   0  74 255 252  28   0  58 255 255  41   0   0   0   0   0   0   0   0   0]\n",
            " [  0   0   0   0   0   0   0   0   1   0   0 151 141   0   0   0 156 155   0   0   0   0   0   0   0   0   0   0]]\n",
            "[[0.    0.    0.    0.    0.    0.    0.    0.    0.    0.    0.231 0.302 0.227 0.22  0.227 0.224 0.255 0.349 0.008 0.    0.    0.    0.    0.    0.    0.    0.    0.   ]\n",
            " [0.    0.    0.    0.    0.    0.    0.    0.    0.    0.    0.961 0.835 0.78  0.753 0.737 0.741 0.722 0.886 0.353 0.    0.    0.    0.    0.    0.    0.    0.    0.   ]\n",
            " [0.    0.    0.    0.    0.    0.    0.    0.    0.    0.396 1.    0.949 0.969 1.    1.    1.    0.961 0.988 0.816 0.    0.    0.    0.    0.    0.    0.    0.    0.   ]\n",
            " [0.    0.    0.    0.    0.    0.    0.    0.    0.    0.698 0.988 0.914 0.922 0.914 0.906 0.91  0.918 0.945 0.961 0.    0.    0.    0.    0.    0.    0.    0.    0.   ]\n",
            " [0.    0.    0.    0.    0.    0.    0.    0.    0.    0.965 0.965 0.922 0.941 0.933 0.929 0.933 0.929 0.925 1.    0.008 0.    0.    0.    0.    0.    0.    0.    0.   ]\n",
            " [0.    0.    0.    0.    0.    0.    0.    0.    0.    1.    0.937 0.929 0.937 0.937 0.933 0.929 0.933 0.918 1.    0.275 0.    0.    0.    0.    0.    0.    0.    0.   ]\n",
            " [0.    0.    0.    0.    0.    0.    0.    0.    0.071 1.    0.929 0.929 0.933 0.925 0.929 0.929 0.945 0.91  1.    0.4   0.    0.    0.    0.    0.    0.    0.    0.   ]\n",
            " [0.    0.    0.    0.    0.    0.    0.    0.    0.137 1.    0.91  0.933 0.929 0.953 0.973 0.933 0.933 0.91  1.    0.475 0.    0.    0.    0.    0.    0.    0.    0.   ]\n",
            " [0.    0.    0.    0.    0.    0.    0.    0.    0.137 1.    0.914 0.929 0.957 0.886 0.851 0.988 0.925 0.898 1.    0.569 0.    0.    0.    0.    0.    0.    0.    0.   ]\n",
            " [0.    0.    0.    0.    0.    0.    0.    0.    0.051 1.    0.933 0.922 0.98  0.804 0.663 1.    0.918 0.894 1.    0.514 0.    0.    0.    0.    0.    0.    0.    0.   ]\n",
            " [0.    0.    0.    0.    0.    0.    0.    0.    0.    1.    0.937 0.918 0.973 0.882 0.722 1.    0.914 0.906 1.    0.392 0.    0.    0.    0.    0.    0.    0.    0.   ]\n",
            " [0.    0.    0.    0.    0.    0.    0.    0.    0.    0.988 0.957 0.906 0.996 0.82  0.553 1.    0.898 0.914 1.    0.165 0.    0.    0.    0.    0.    0.    0.    0.   ]\n",
            " [0.    0.    0.    0.    0.    0.    0.    0.    0.    0.804 0.98  0.914 1.    0.78  0.396 1.    0.902 0.925 1.    0.    0.    0.    0.    0.    0.    0.    0.    0.   ]\n",
            " [0.    0.    0.    0.    0.    0.    0.    0.    0.    0.525 1.    0.91  1.    0.824 0.373 1.    0.89  0.949 0.933 0.    0.    0.    0.    0.    0.    0.    0.    0.   ]\n",
            " [0.    0.    0.    0.    0.    0.    0.    0.    0.    0.204 0.98  0.914 0.984 0.867 0.322 1.    0.906 0.973 0.765 0.    0.    0.    0.    0.    0.    0.    0.    0.   ]\n",
            " [0.    0.    0.    0.    0.    0.    0.    0.    0.    0.    1.    0.933 0.976 0.878 0.31  1.    0.906 0.98  0.576 0.    0.    0.    0.    0.    0.    0.    0.    0.   ]\n",
            " [0.    0.    0.    0.    0.    0.    0.    0.    0.    0.    0.859 0.969 0.957 0.875 0.318 1.    0.902 0.984 0.294 0.    0.    0.    0.    0.    0.    0.    0.    0.   ]\n",
            " [0.    0.    0.    0.    0.    0.    0.    0.    0.    0.    0.671 0.996 0.933 0.894 0.29  1.    0.91  0.965 0.176 0.    0.    0.    0.    0.    0.    0.    0.    0.   ]\n",
            " [0.    0.    0.    0.    0.    0.    0.    0.    0.012 0.    0.584 0.996 0.937 0.914 0.129 1.    0.906 0.965 0.212 0.    0.    0.    0.    0.    0.    0.    0.    0.   ]\n",
            " [0.    0.    0.    0.    0.    0.    0.    0.    0.008 0.    0.588 0.996 0.973 0.71  0.    1.    0.929 0.973 0.224 0.    0.    0.    0.    0.    0.    0.    0.    0.   ]\n",
            " [0.    0.    0.    0.    0.    0.    0.    0.    0.004 0.    0.663 0.98  0.984 0.455 0.    0.906 0.969 0.988 0.396 0.    0.    0.    0.    0.    0.    0.    0.    0.   ]\n",
            " [0.    0.    0.    0.    0.    0.    0.    0.    0.    0.    0.812 0.961 0.984 0.482 0.    0.922 0.976 0.984 0.561 0.    0.    0.    0.    0.    0.    0.    0.    0.   ]\n",
            " [0.    0.    0.    0.    0.    0.    0.    0.    0.    0.    0.898 0.957 0.992 0.549 0.    0.929 0.976 0.98  0.58  0.    0.    0.    0.    0.    0.    0.    0.    0.   ]\n",
            " [0.    0.    0.    0.    0.    0.    0.    0.    0.    0.    0.831 0.957 0.984 0.565 0.    0.714 0.988 0.992 0.514 0.    0.    0.    0.    0.    0.    0.    0.    0.   ]\n",
            " [0.    0.    0.    0.    0.    0.    0.    0.    0.004 0.    0.678 0.984 0.969 0.396 0.    0.471 0.992 0.984 0.424 0.    0.    0.    0.    0.    0.    0.    0.    0.   ]\n",
            " [0.    0.    0.    0.    0.    0.    0.    0.    0.012 0.    0.498 0.984 0.953 0.184 0.    0.325 0.992 0.969 0.259 0.    0.    0.    0.    0.    0.    0.    0.    0.   ]\n",
            " [0.    0.    0.    0.    0.    0.    0.    0.    0.012 0.    0.29  1.    0.988 0.11  0.    0.227 1.    1.    0.161 0.    0.    0.    0.    0.    0.    0.    0.    0.   ]\n",
            " [0.    0.    0.    0.    0.    0.    0.    0.    0.004 0.    0.    0.592 0.553 0.    0.    0.    0.612 0.608 0.    0.    0.    0.    0.    0.    0.    0.    0.    0.   ]]\n",
            "[[0.000e+00 0.000e+00 1.945e-05 1.108e-01 6.865e-01 6.443e-01 6.534e-01 2.000e-01 8.216e-05 0.000e+00 0.000e+00]\n",
            " [0.000e+00 0.000e+00 1.858e-04 3.655e-01 9.325e-01 9.313e-01 9.311e-01 4.391e-01 6.614e-04 0.000e+00 0.000e+00]\n",
            " [0.000e+00 0.000e+00 1.220e-03 4.693e-01 9.316e-01 9.349e-01 9.319e-01 5.883e-01 5.964e-03 0.000e+00 0.000e+00]\n",
            " [0.000e+00 0.000e+00 1.678e-03 4.810e-01 9.331e-01 8.649e-01 9.299e-01 6.459e-01 8.296e-03 0.000e+00 0.000e+00]\n",
            " [0.000e+00 0.000e+00 2.487e-04 4.293e-01 9.374e-01 7.698e-01 9.224e-01 5.187e-01 3.225e-03 0.000e+00 0.000e+00]\n",
            " [0.000e+00 0.000e+00 8.944e-05 2.371e-01 9.315e-01 6.982e-01 9.226e-01 3.905e-01 2.221e-04 0.000e+00 0.000e+00]\n",
            " [0.000e+00 0.000e+00 6.075e-06 9.449e-02 9.052e-01 6.919e-01 9.155e-01 2.211e-01 7.912e-05 0.000e+00 0.000e+00]\n",
            " [0.000e+00 0.000e+00 1.207e-04 7.301e-02 8.625e-01 5.628e-01 9.146e-01 1.898e-01 5.779e-05 0.000e+00 0.000e+00]\n",
            " [0.000e+00 0.000e+00 1.417e-05 8.971e-02 8.947e-01 4.328e-01 9.330e-01 2.885e-01 1.250e-04 0.000e+00 0.000e+00]\n",
            " [0.000e+00 0.000e+00 5.753e-05 8.170e-02 8.740e-01 3.612e-01 8.633e-01 2.579e-01 1.038e-04 0.000e+00 0.000e+00]\n",
            " [0.000e+00 0.000e+00 1.471e-04 3.593e-02 6.858e-01 1.771e-01 6.969e-01 1.432e-01 3.227e-05 0.000e+00 0.000e+00]]\n",
            "shirt org dim: (28, 28)\n",
            "resized_shirt dim: (7, 7)\n"
          ]
        },
        {
          "output_type": "execute_result",
          "data": {
            "text/plain": [
              "<matplotlib.image.AxesImage at 0x7f5e3df33e10>"
            ]
          },
          "metadata": {},
          "execution_count": 50
        },
        {
          "output_type": "display_data",
          "data": {
            "image/png": "[encoded data removed]",
            "text/plain": [
              "<Figure size 720x432 with 2 Axes>"
            ]
          },
          "metadata": {
            "needs_background": "light"
          }
        }
      ]
    },
    {
      "cell_type": "markdown",
      "source": [
        "### Random Forest avec PCA"
      ],
      "metadata": {
        "id": "QBGkracEW7p_"
      }
    },
    {
      "cell_type": "code",
      "source": [
        "#normalize training data\n",
        "sc = StandardScaler()\n",
        "print(img_train.shape)\n",
        "Xtr = sc.fit_transform(img_train)\n",
        "Xte = sc.transform(img_test)\n"
      ],
      "metadata": {
        "colab": {
          "base_uri": "https://localhost:8080/"
        },
        "id": "5XzFRN-sXBRI",
        "outputId": "ec52ca36-eb8c-497b-dbc1-d7154fee2b8b"
      },
      "execution_count": 97,
      "outputs": [
        {
          "output_type": "stream",
          "name": "stdout",
          "text": [
            "(60000, 784)\n"
          ]
        }
      ]
    },
    {
      "cell_type": "code",
      "source": [
        "#apply PCA\n",
        "pca = PCA(n_components=10)\n",
        "Xtr = pca.fit_transform(Xtr)\n",
        "Xte = pca.transform(Xte)"
      ],
      "metadata": {
        "id": "mpAPt4p2byTF"
      },
      "execution_count": 98,
      "outputs": []
    },
    {
      "cell_type": "code",
      "source": [
        "# Random forest model\n",
        "classifier = RandomForestClassifier(max_depth=2, random_state=0)\n",
        "classifier.fit(Xtr, label_train)"
      ],
      "metadata": {
        "colab": {
          "base_uri": "https://localhost:8080/"
        },
        "id": "yCX2_H5oZ1dy",
        "outputId": "ef1327d3-ce51-4872-b246-1a18d7e3fb05"
      },
      "execution_count": 99,
      "outputs": [
        {
          "output_type": "execute_result",
          "data": {
            "text/plain": [
              "RandomForestClassifier(max_depth=2, random_state=0)"
            ]
          },
          "metadata": {},
          "execution_count": 99
        }
      ]
    },
    {
      "cell_type": "code",
      "source": [
        "y_pred = classifier.predict(Xte)"
      ],
      "metadata": {
        "id": "Gqctjb5Bb7Dd"
      },
      "execution_count": 101,
      "outputs": []
    },
    {
      "cell_type": "code",
      "source": [
        "cm = confusion_matrix(label_test, y_pred)\n",
        "print(cm)\n",
        "print( accuracy_score(label_test, y_pred))"
      ],
      "metadata": {
        "colab": {
          "base_uri": "https://localhost:8080/"
        },
        "id": "qbcUb3HMb_nn",
        "outputId": "c44fac7f-01e7-4a77-9a08-a4f9070c06b3"
      },
      "execution_count": 104,
      "outputs": [
        {
          "output_type": "stream",
          "name": "stdout",
          "text": [
            "[[706   5  73  81   6  35  31   0  12  51]\n",
            " [ 11 845  28  91   0   2  11   0   5   7]\n",
            " [ 96   1 755   2  32  13   3   0  71  27]\n",
            " [ 19 113 108 542  13  18  62   0  13 112]\n",
            " [  5   2 592  18 117  19  19   0 136  92]\n",
            " [  1   1  53   0   4 689   1 159  24  68]\n",
            " [200   3 528  26  23  53  32   0  73  62]\n",
            " [  0   0   2   0   3 140   0 717   1 137]\n",
            " [ 25   1  91   6  13  20  18  11 757  58]\n",
            " [  0   0  22   0   2  66   1  24  17 868]]\n",
            "0.6028\n"
          ]
        }
      ]
    },
    {
      "cell_type": "markdown",
      "source": [
        "### Do n_components grid search"
      ],
      "metadata": {
        "id": "AE25itbZconw"
      }
    },
    {
      "cell_type": "code",
      "source": [
        "print(Xtr.shape)"
      ],
      "metadata": {
        "colab": {
          "base_uri": "https://localhost:8080/"
        },
        "id": "NCtM33K_ffGZ",
        "outputId": "440b4d56-f10a-4318-eb2f-d70a61ada657"
      },
      "execution_count": 115,
      "outputs": [
        {
          "output_type": "stream",
          "name": "stdout",
          "text": [
            "(60000, 2)\n"
          ]
        }
      ]
    },
    {
      "cell_type": "code",
      "source": [
        "components = [2,4,6,8,10,12,15,17,20,25,40,100,150,250,500,600,700]\n",
        "accuracies = np.zeros(len(components))\n",
        "for i,comp in enumerate(components):\n",
        "  #normalize\n",
        "  sc = StandardScaler()\n",
        "  print(img_train.shape)\n",
        "  Xtr = sc.fit_transform(img_train)\n",
        "  Xte = sc.transform(img_test)\n",
        "  #apply PCA\n",
        "  pca = PCA(n_components=comp)\n",
        "  Xtr = pca.fit_transform(Xtr)\n",
        "  Xte = pca.transform(Xte)\n",
        "\n",
        "  # Random forest model\n",
        "  classifier = RandomForestClassifier(max_depth=2, random_state=0)\n",
        "  classifier.fit(Xtr, label_train)\n",
        "\n",
        "  y_pred = classifier.predict(Xte)\n",
        "  accuracies[i] = accuracy_score(label_test, y_pred)\n",
        "x = np.arange(len(components))\n",
        "fig, ax = plt.subplots()\n",
        "ax.plot(x,accuracies)"
      ],
      "metadata": {
        "colab": {
          "base_uri": "https://localhost:8080/",
          "height": 577
        },
        "id": "gO6V2xkAcynZ",
        "outputId": "a2a0afc2-09b1-48c0-ef19-b7967a45217a"
      },
      "execution_count": 118,
      "outputs": [
        {
          "output_type": "stream",
          "name": "stdout",
          "text": [
            "(60000, 784)\n",
            "(60000, 784)\n",
            "(60000, 784)\n",
            "(60000, 784)\n",
            "(60000, 784)\n",
            "(60000, 784)\n",
            "(60000, 784)\n",
            "(60000, 784)\n",
            "(60000, 784)\n",
            "(60000, 784)\n",
            "(60000, 784)\n",
            "(60000, 784)\n",
            "(60000, 784)\n",
            "(60000, 784)\n",
            "(60000, 784)\n",
            "(60000, 784)\n",
            "(60000, 784)\n"
          ]
        },
        {
          "output_type": "execute_result",
          "data": {
            "text/plain": [
              "[<matplotlib.lines.Line2D at 0x7fa042d901d0>]"
            ]
          },
          "metadata": {},
          "execution_count": 118
        },
        {
          "output_type": "display_data",
          "data": {
            "image/png": "[encoded data removed]",
            "text/plain": [
              "<Figure size 432x288 with 1 Axes>"
            ]
          },
          "metadata": {
            "needs_background": "light"
          }
        }
      ]
    },
    {
      "cell_type": "code",
      "source": [
        "sc = StandardScaler()\n",
        "print(img_train.shape)\n",
        "Xtr = sc.fit_transform(img_train)\n",
        "#apply PCA\n",
        "pca = PCA(n_components=2)\n",
        "Xtr = pca.fit_transform(Xtr)\n",
        "print(Xtr.shape)"
      ],
      "metadata": {
        "colab": {
          "base_uri": "https://localhost:8080/"
        },
        "id": "1_hqTrzKmioc",
        "outputId": "ddc757f8-5e98-4887-d688-f11b66ed2748"
      },
      "execution_count": 49,
      "outputs": [
        {
          "output_type": "stream",
          "name": "stdout",
          "text": [
            "(60000, 784)\n",
            "(60000, 2)\n"
          ]
        }
      ]
    },
    {
      "cell_type": "markdown",
      "source": [
        "### Random Forest no PCA"
      ],
      "metadata": {
        "id": "EfW-b-Hojh5v"
      }
    },
    {
      "cell_type": "code",
      "source": [
        "classifier = RandomForestClassifier(max_depth=2, random_state=0)\n",
        "classifier.fit(img_train, label_train)\n",
        "\n",
        "y_pred = classifier.predict(img_test)\n",
        "print(accuracy_score(label_test, y_pred))"
      ],
      "metadata": {
        "colab": {
          "base_uri": "https://localhost:8080/"
        },
        "id": "KW8dEFwcjkXZ",
        "outputId": "722c467b-d0c0-4296-c40d-baf5015b8474"
      },
      "execution_count": 120,
      "outputs": [
        {
          "output_type": "stream",
          "name": "stdout",
          "text": [
            "0.5892\n"
          ]
        }
      ]
    },
    {
      "cell_type": "markdown",
      "source": [
        "# Notes\n",
        "### Data augmentation\n",
        "- Rotate the images to augment the data set\n",
        "- Shift and contour the images to augment the data set\n",
        "\n",
        "### Considerations\n",
        "- Using pretrained models vs from scratch"
      ],
      "metadata": {
        "id": "9InEey3Vn3mi"
      }
    }
  ]
}